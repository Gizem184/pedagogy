{
 "cells": [
  {
   "cell_type": "markdown",
   "metadata": {},
   "source": [
    "# `pd.read_sql_query`"
   ]
  },
  {
   "cell_type": "markdown",
   "metadata": {},
   "source": [
    "Confirming that we're using the right environment:"
   ]
  },
  {
   "cell_type": "code",
   "execution_count": 1,
   "metadata": {},
   "outputs": [
    {
     "name": "stdout",
     "output_type": "stream",
     "text": [
      "pedagogy\n"
     ]
    }
   ],
   "source": [
    "import os\n",
    "import pymysql\n",
    "import pandas as pd\n",
    "print(os.environ['CONDA_DEFAULT_ENV'])"
   ]
  },
  {
   "cell_type": "code",
   "execution_count": 240,
   "metadata": {},
   "outputs": [
    {
     "data": {
      "text/html": [
       "<div>\n",
       "<style scoped>\n",
       "    .dataframe tbody tr th:only-of-type {\n",
       "        vertical-align: middle;\n",
       "    }\n",
       "\n",
       "    .dataframe tbody tr th {\n",
       "        vertical-align: top;\n",
       "    }\n",
       "\n",
       "    .dataframe thead th {\n",
       "        text-align: right;\n",
       "    }\n",
       "</style>\n",
       "<table border=\"1\" class=\"dataframe\">\n",
       "  <thead>\n",
       "    <tr style=\"text-align: right;\">\n",
       "      <th></th>\n",
       "      <th>workshop_name</th>\n",
       "      <th>workshop_category</th>\n",
       "      <th>workshop_instructor</th>\n",
       "      <th>workshop_start</th>\n",
       "      <th>workshop_hours</th>\n",
       "      <th>workshop_venue</th>\n",
       "      <th>class_size</th>\n",
       "      <th>mnth_yr</th>\n",
       "    </tr>\n",
       "    <tr>\n",
       "      <th>id</th>\n",
       "      <th></th>\n",
       "      <th></th>\n",
       "      <th></th>\n",
       "      <th></th>\n",
       "      <th></th>\n",
       "      <th></th>\n",
       "      <th></th>\n",
       "      <th></th>\n",
       "    </tr>\n",
       "  </thead>\n",
       "  <tbody>\n",
       "    <tr>\n",
       "      <th>36</th>\n",
       "      <td>Deragon P4DS</td>\n",
       "      <td>Academy</td>\n",
       "      <td>1</td>\n",
       "      <td>2018-07-30 18:00:00</td>\n",
       "      <td>9</td>\n",
       "      <td>Block 71</td>\n",
       "      <td>23</td>\n",
       "      <td>2018-07</td>\n",
       "    </tr>\n",
       "    <tr>\n",
       "      <th>37</th>\n",
       "      <td>Chronos PS</td>\n",
       "      <td>Academy</td>\n",
       "      <td>5</td>\n",
       "      <td>2018-06-28 18:00:00</td>\n",
       "      <td>9</td>\n",
       "      <td>Block 71</td>\n",
       "      <td>18</td>\n",
       "      <td>2018-06</td>\n",
       "    </tr>\n",
       "    <tr>\n",
       "      <th>38</th>\n",
       "      <td>Chronos PS</td>\n",
       "      <td>Academy</td>\n",
       "      <td>16</td>\n",
       "      <td>2018-06-28 18:00:00</td>\n",
       "      <td>9</td>\n",
       "      <td>Connext</td>\n",
       "      <td>13</td>\n",
       "      <td>2018-06</td>\n",
       "    </tr>\n",
       "    <tr>\n",
       "      <th>39</th>\n",
       "      <td>Chronos Deragon C1</td>\n",
       "      <td>Academy</td>\n",
       "      <td>1</td>\n",
       "      <td>2018-08-14 18:00:00</td>\n",
       "      <td>9</td>\n",
       "      <td>Block 71</td>\n",
       "      <td>23</td>\n",
       "      <td>2018-08</td>\n",
       "    </tr>\n",
       "    <tr>\n",
       "      <th>40</th>\n",
       "      <td>Chronos Deragon C1</td>\n",
       "      <td>Academy</td>\n",
       "      <td>9</td>\n",
       "      <td>2018-08-14 18:00:00</td>\n",
       "      <td>9</td>\n",
       "      <td>Aston Hotel</td>\n",
       "      <td>16</td>\n",
       "      <td>2018-08</td>\n",
       "    </tr>\n",
       "  </tbody>\n",
       "</table>\n",
       "</div>"
      ],
      "text/plain": [
       "         workshop_name workshop_category  workshop_instructor  \\\n",
       "id                                                              \n",
       "36        Deragon P4DS           Academy                    1   \n",
       "37          Chronos PS           Academy                    5   \n",
       "38          Chronos PS           Academy                   16   \n",
       "39  Chronos Deragon C1           Academy                    1   \n",
       "40  Chronos Deragon C1           Academy                    9   \n",
       "\n",
       "        workshop_start  workshop_hours workshop_venue  class_size mnth_yr  \n",
       "id                                                                         \n",
       "36 2018-07-30 18:00:00               9       Block 71          23 2018-07  \n",
       "37 2018-06-28 18:00:00               9       Block 71          18 2018-06  \n",
       "38 2018-06-28 18:00:00               9        Connext          13 2018-06  \n",
       "39 2018-08-14 18:00:00               9       Block 71          23 2018-08  \n",
       "40 2018-08-14 18:00:00               9    Aston Hotel          16 2018-08  "
      ]
     },
     "execution_count": 240,
     "metadata": {},
     "output_type": "execute_result"
    }
   ],
   "source": [
    "host = os.getenv('MYSQL_HOST')\n",
    "user = os.getenv('MYSQL_USER')\n",
    "password = os.getenv('MYSQL_PASSWORD')\n",
    "database = os.getenv('MYSQL_DATABASE')\n",
    "\n",
    "conn = pymysql.connect(\n",
    "    host=host,\n",
    "    port=int(3306),\n",
    "    user=user,\n",
    "    passwd=password,\n",
    "    db=database)\n",
    "\n",
    "df = pd.read_sql_query(\"SELECT * FROM workshop\", conn, index_col='id')\n",
    "# convert datetime to '2018-09' month and year format\n",
    "df['mnth_yr'] = df.workshop_start.dt.to_period('M')\n",
    "df.tail(5)"
   ]
  },
  {
   "cell_type": "markdown",
   "metadata": {},
   "source": [
    "## Data Visualization"
   ]
  },
  {
   "cell_type": "code",
   "execution_count": 208,
   "metadata": {},
   "outputs": [
    {
     "data": {
      "text/html": [
       "<div>\n",
       "<style scoped>\n",
       "    .dataframe tbody tr th:only-of-type {\n",
       "        vertical-align: middle;\n",
       "    }\n",
       "\n",
       "    .dataframe tbody tr th {\n",
       "        vertical-align: top;\n",
       "    }\n",
       "\n",
       "    .dataframe thead th {\n",
       "        text-align: right;\n",
       "    }\n",
       "</style>\n",
       "<table border=\"1\" class=\"dataframe\">\n",
       "  <thead>\n",
       "    <tr style=\"text-align: right;\">\n",
       "      <th></th>\n",
       "      <th>this_user</th>\n",
       "      <th>class_size</th>\n",
       "    </tr>\n",
       "    <tr>\n",
       "      <th>id</th>\n",
       "      <th></th>\n",
       "      <th></th>\n",
       "    </tr>\n",
       "  </thead>\n",
       "  <tbody>\n",
       "    <tr>\n",
       "      <th>1</th>\n",
       "      <td>True</td>\n",
       "      <td>21</td>\n",
       "    </tr>\n",
       "    <tr>\n",
       "      <th>2</th>\n",
       "      <td>True</td>\n",
       "      <td>30</td>\n",
       "    </tr>\n",
       "    <tr>\n",
       "      <th>3</th>\n",
       "      <td>True</td>\n",
       "      <td>12</td>\n",
       "    </tr>\n",
       "    <tr>\n",
       "      <th>4</th>\n",
       "      <td>True</td>\n",
       "      <td>29</td>\n",
       "    </tr>\n",
       "    <tr>\n",
       "      <th>5</th>\n",
       "      <td>True</td>\n",
       "      <td>5</td>\n",
       "    </tr>\n",
       "  </tbody>\n",
       "</table>\n",
       "</div>"
      ],
      "text/plain": [
       "    this_user  class_size\n",
       "id                       \n",
       "1        True          21\n",
       "2        True          30\n",
       "3        True          12\n",
       "4        True          29\n",
       "5        True           5"
      ]
     },
     "execution_count": 208,
     "metadata": {},
     "output_type": "execute_result"
    }
   ],
   "source": [
    "df['this_user'] = df['workshop_instructor'] == 1\n",
    "dat = df.loc[:,['this_user', 'class_size']]\n",
    "dat.head()"
   ]
  },
  {
   "cell_type": "code",
   "execution_count": 209,
   "metadata": {},
   "outputs": [
    {
     "data": {
      "application/vnd.vegalite.v2+json": {
       "$schema": "https://vega.github.io/schema/vega-lite/v2.6.0.json",
       "config": {
        "view": {
         "height": 300,
         "width": 400
        }
       },
       "data": {
        "name": "data-f9307b5b341ca78eabba5ab1ee8f22c3"
       },
       "datasets": {
        "data-f9307b5b341ca78eabba5ab1ee8f22c3": [
         {
          "class_size": 21,
          "this_user": true
         },
         {
          "class_size": 30,
          "this_user": true
         },
         {
          "class_size": 12,
          "this_user": true
         },
         {
          "class_size": 29,
          "this_user": true
         },
         {
          "class_size": 5,
          "this_user": true
         },
         {
          "class_size": 16,
          "this_user": false
         },
         {
          "class_size": 5,
          "this_user": false
         },
         {
          "class_size": 16,
          "this_user": false
         },
         {
          "class_size": 16,
          "this_user": false
         },
         {
          "class_size": 7,
          "this_user": true
         },
         {
          "class_size": 10,
          "this_user": true
         },
         {
          "class_size": 27,
          "this_user": true
         },
         {
          "class_size": 10,
          "this_user": true
         },
         {
          "class_size": 10,
          "this_user": true
         },
         {
          "class_size": 24,
          "this_user": true
         },
         {
          "class_size": 24,
          "this_user": true
         },
         {
          "class_size": 19,
          "this_user": true
         },
         {
          "class_size": 34,
          "this_user": false
         },
         {
          "class_size": 29,
          "this_user": true
         },
         {
          "class_size": 17,
          "this_user": true
         },
         {
          "class_size": 15,
          "this_user": true
         },
         {
          "class_size": 30,
          "this_user": true
         },
         {
          "class_size": 15,
          "this_user": false
         },
         {
          "class_size": 24,
          "this_user": false
         },
         {
          "class_size": 16,
          "this_user": false
         },
         {
          "class_size": 30,
          "this_user": true
         },
         {
          "class_size": 28,
          "this_user": true
         },
         {
          "class_size": 28,
          "this_user": true
         },
         {
          "class_size": 29,
          "this_user": true
         },
         {
          "class_size": 26,
          "this_user": true
         },
         {
          "class_size": 23,
          "this_user": false
         },
         {
          "class_size": 23,
          "this_user": true
         },
         {
          "class_size": 17,
          "this_user": false
         },
         {
          "class_size": 10,
          "this_user": false
         },
         {
          "class_size": 12,
          "this_user": true
         },
         {
          "class_size": 23,
          "this_user": true
         },
         {
          "class_size": 18,
          "this_user": false
         },
         {
          "class_size": 13,
          "this_user": false
         },
         {
          "class_size": 23,
          "this_user": true
         },
         {
          "class_size": 16,
          "this_user": false
         }
        ]
       },
       "encoding": {
        "color": {
         "field": "this_user",
         "scale": {
          "range": [
           "#000000",
           "#62092f"
          ]
         },
         "type": "nominal"
        },
        "x": {
         "bin": {
          "maxbins": 12
         },
         "field": "class_size",
         "type": "quantitative"
        },
        "y": {
         "aggregate": "count",
         "stack": null,
         "type": "quantitative"
        }
       },
       "mark": {
        "interpolate": "step",
        "opacity": 0.75,
        "type": "area"
       }
      },
      "image/png": "[encoded data removed]",
      "text/plain": [
       "<VegaLite 2 object>\n",
       "\n",
       "If you see this message, it means the renderer has not been properly enabled\n",
       "for the frontend that you are using. For more information, see\n",
       "https://altair-viz.github.io/user_guide/troubleshooting.html\n"
      ]
     },
     "execution_count": 209,
     "metadata": {},
     "output_type": "execute_result"
    }
   ],
   "source": [
    "import altair as alt\n",
    "\n",
    "alt.Chart(dat).mark_area(\n",
    "    opacity=0.75,\n",
    "    interpolate='step'\n",
    ").encode(\n",
    "    alt.X(\"class_size:Q\", bin=alt.Bin(maxbins=12)),\n",
    "    alt.Y('count()', stack=None),\n",
    "    alt.Color(\n",
    "        'this_user',\n",
    "        scale=alt.Scale(range=['#000000', '#62092f'])\n",
    "    )\n",
    ")"
   ]
  },
  {
   "cell_type": "code",
   "execution_count": 210,
   "metadata": {},
   "outputs": [
    {
     "data": {
      "text/html": [
       "<div>\n",
       "<style scoped>\n",
       "    .dataframe tbody tr th:only-of-type {\n",
       "        vertical-align: middle;\n",
       "    }\n",
       "\n",
       "    .dataframe tbody tr th {\n",
       "        vertical-align: top;\n",
       "    }\n",
       "\n",
       "    .dataframe thead th {\n",
       "        text-align: right;\n",
       "    }\n",
       "</style>\n",
       "<table border=\"1\" class=\"dataframe\">\n",
       "  <thead>\n",
       "    <tr style=\"text-align: right;\">\n",
       "      <th></th>\n",
       "      <th>workshop_hours</th>\n",
       "      <th>mnth_yr</th>\n",
       "      <th>workshop_category</th>\n",
       "      <th>class_size</th>\n",
       "    </tr>\n",
       "    <tr>\n",
       "      <th>id</th>\n",
       "      <th></th>\n",
       "      <th></th>\n",
       "      <th></th>\n",
       "      <th></th>\n",
       "    </tr>\n",
       "  </thead>\n",
       "  <tbody>\n",
       "    <tr>\n",
       "      <th>1</th>\n",
       "      <td>9</td>\n",
       "      <td>2017-08</td>\n",
       "      <td>DSS</td>\n",
       "      <td>21</td>\n",
       "    </tr>\n",
       "    <tr>\n",
       "      <th>2</th>\n",
       "      <td>9</td>\n",
       "      <td>2017-09</td>\n",
       "      <td>DSS</td>\n",
       "      <td>30</td>\n",
       "    </tr>\n",
       "    <tr>\n",
       "      <th>3</th>\n",
       "      <td>9</td>\n",
       "      <td>2017-10</td>\n",
       "      <td>DSS</td>\n",
       "      <td>12</td>\n",
       "    </tr>\n",
       "    <tr>\n",
       "      <th>4</th>\n",
       "      <td>9</td>\n",
       "      <td>2017-10</td>\n",
       "      <td>DSS</td>\n",
       "      <td>29</td>\n",
       "    </tr>\n",
       "    <tr>\n",
       "      <th>5</th>\n",
       "      <td>18</td>\n",
       "      <td>2017-10</td>\n",
       "      <td>Corporate</td>\n",
       "      <td>5</td>\n",
       "    </tr>\n",
       "  </tbody>\n",
       "</table>\n",
       "</div>"
      ],
      "text/plain": [
       "    workshop_hours  mnth_yr workshop_category  class_size\n",
       "id                                                       \n",
       "1                9  2017-08               DSS          21\n",
       "2                9  2017-09               DSS          30\n",
       "3                9  2017-10               DSS          12\n",
       "4                9  2017-10               DSS          29\n",
       "5               18  2017-10         Corporate           5"
      ]
     },
     "execution_count": 210,
     "metadata": {},
     "output_type": "execute_result"
    }
   ],
   "source": [
    "dat = df.loc[df.this_user==True, ['workshop_hours', 'mnth_yr', 'workshop_category', 'class_size']]\n",
    "# mnth_yr needs to be a string instead of Period\n",
    "dat['mnth_yr'] = df['mnth_yr'].astype(str)\n",
    "dat.head()"
   ]
  },
  {
   "cell_type": "code",
   "execution_count": 211,
   "metadata": {},
   "outputs": [
    {
     "data": {
      "application/vnd.vegalite.v2+json": {
       "$schema": "https://vega.github.io/schema/vega-lite/v2.6.0.json",
       "config": {
        "view": {
         "height": 300,
         "width": 400
        }
       },
       "data": {
        "name": "data-22a39313b39cbe96055f2fc18f760fee"
       },
       "datasets": {
        "data-22a39313b39cbe96055f2fc18f760fee": [
         {
          "class_size": 21,
          "mnth_yr": "2017-08",
          "workshop_category": "DSS",
          "workshop_hours": 9
         },
         {
          "class_size": 30,
          "mnth_yr": "2017-09",
          "workshop_category": "DSS",
          "workshop_hours": 9
         },
         {
          "class_size": 12,
          "mnth_yr": "2017-10",
          "workshop_category": "DSS",
          "workshop_hours": 9
         },
         {
          "class_size": 29,
          "mnth_yr": "2017-10",
          "workshop_category": "DSS",
          "workshop_hours": 9
         },
         {
          "class_size": 5,
          "mnth_yr": "2017-10",
          "workshop_category": "Corporate",
          "workshop_hours": 18
         },
         {
          "class_size": 7,
          "mnth_yr": "2017-11",
          "workshop_category": "DSS",
          "workshop_hours": 9
         },
         {
          "class_size": 10,
          "mnth_yr": "2017-10",
          "workshop_category": "Corporate",
          "workshop_hours": 18
         },
         {
          "class_size": 27,
          "mnth_yr": "2017-09",
          "workshop_category": "DSS",
          "workshop_hours": 9
         },
         {
          "class_size": 10,
          "mnth_yr": "2018-02",
          "workshop_category": "Corporate",
          "workshop_hours": 16
         },
         {
          "class_size": 10,
          "mnth_yr": "2018-05",
          "workshop_category": "Corporate",
          "workshop_hours": 11
         },
         {
          "class_size": 24,
          "mnth_yr": "2018-01",
          "workshop_category": "Academy",
          "workshop_hours": 9
         },
         {
          "class_size": 24,
          "mnth_yr": "2018-01",
          "workshop_category": "Academy",
          "workshop_hours": 6
         },
         {
          "class_size": 19,
          "mnth_yr": "2018-01",
          "workshop_category": "Academy",
          "workshop_hours": 9
         },
         {
          "class_size": 29,
          "mnth_yr": "2018-05",
          "workshop_category": "Academy",
          "workshop_hours": 9
         },
         {
          "class_size": 17,
          "mnth_yr": "2018-07",
          "workshop_category": "Corporate",
          "workshop_hours": 30
         },
         {
          "class_size": 15,
          "mnth_yr": "2018-07",
          "workshop_category": "Corporate",
          "workshop_hours": 20
         },
         {
          "class_size": 30,
          "mnth_yr": "2018-07",
          "workshop_category": "Academy",
          "workshop_hours": 9
         },
         {
          "class_size": 30,
          "mnth_yr": "2018-03",
          "workshop_category": "Academy",
          "workshop_hours": 9
         },
         {
          "class_size": 28,
          "mnth_yr": "2018-04",
          "workshop_category": "Academy",
          "workshop_hours": 9
         },
         {
          "class_size": 28,
          "mnth_yr": "2018-04",
          "workshop_category": "Academy",
          "workshop_hours": 9
         },
         {
          "class_size": 29,
          "mnth_yr": "2018-05",
          "workshop_category": "Academy",
          "workshop_hours": 9
         },
         {
          "class_size": 26,
          "mnth_yr": "2018-06",
          "workshop_category": "Academy",
          "workshop_hours": 9
         },
         {
          "class_size": 23,
          "mnth_yr": "2018-06",
          "workshop_category": "Academy",
          "workshop_hours": 9
         },
         {
          "class_size": 12,
          "mnth_yr": "2018-05",
          "workshop_category": "Corporate",
          "workshop_hours": 16
         },
         {
          "class_size": 23,
          "mnth_yr": "2018-07",
          "workshop_category": "Academy",
          "workshop_hours": 9
         },
         {
          "class_size": 23,
          "mnth_yr": "2018-08",
          "workshop_category": "Academy",
          "workshop_hours": 9
         }
        ]
       },
       "encoding": {
        "color": {
         "field": "workshop_category",
         "type": "nominal"
        },
        "x": {
         "aggregate": "sum",
         "field": "workshop_hours",
         "type": "quantitative"
        },
        "y": {
         "field": "mnth_yr",
         "type": "nominal"
        }
       },
       "mark": "bar"
      },
      "image/png": "[encoded data removed]",
      "text/plain": [
       "<VegaLite 2 object>\n",
       "\n",
       "If you see this message, it means the renderer has not been properly enabled\n",
       "for the frontend that you are using. For more information, see\n",
       "https://altair-viz.github.io/user_guide/troubleshooting.html\n"
      ]
     },
     "execution_count": 211,
     "metadata": {},
     "output_type": "execute_result"
    }
   ],
   "source": [
    "alt.Chart(dat).mark_bar().encode(\n",
    "    alt.X(\"sum(workshop_hours)\"),\n",
    "    alt.Y('mnth_yr'),\n",
    "    alt.Color('workshop_category')\n",
    ")"
   ]
  },
  {
   "cell_type": "code",
   "execution_count": 212,
   "metadata": {},
   "outputs": [
    {
     "data": {
      "application/vnd.vegalite.v2+json": {
       "$schema": "https://vega.github.io/schema/vega-lite/v2.6.0.json",
       "config": {
        "view": {
         "height": 300,
         "width": 400
        }
       },
       "data": {
        "name": "data-22a39313b39cbe96055f2fc18f760fee"
       },
       "datasets": {
        "data-22a39313b39cbe96055f2fc18f760fee": [
         {
          "class_size": 21,
          "mnth_yr": "2017-08",
          "workshop_category": "DSS",
          "workshop_hours": 9
         },
         {
          "class_size": 30,
          "mnth_yr": "2017-09",
          "workshop_category": "DSS",
          "workshop_hours": 9
         },
         {
          "class_size": 12,
          "mnth_yr": "2017-10",
          "workshop_category": "DSS",
          "workshop_hours": 9
         },
         {
          "class_size": 29,
          "mnth_yr": "2017-10",
          "workshop_category": "DSS",
          "workshop_hours": 9
         },
         {
          "class_size": 5,
          "mnth_yr": "2017-10",
          "workshop_category": "Corporate",
          "workshop_hours": 18
         },
         {
          "class_size": 7,
          "mnth_yr": "2017-11",
          "workshop_category": "DSS",
          "workshop_hours": 9
         },
         {
          "class_size": 10,
          "mnth_yr": "2017-10",
          "workshop_category": "Corporate",
          "workshop_hours": 18
         },
         {
          "class_size": 27,
          "mnth_yr": "2017-09",
          "workshop_category": "DSS",
          "workshop_hours": 9
         },
         {
          "class_size": 10,
          "mnth_yr": "2018-02",
          "workshop_category": "Corporate",
          "workshop_hours": 16
         },
         {
          "class_size": 10,
          "mnth_yr": "2018-05",
          "workshop_category": "Corporate",
          "workshop_hours": 11
         },
         {
          "class_size": 24,
          "mnth_yr": "2018-01",
          "workshop_category": "Academy",
          "workshop_hours": 9
         },
         {
          "class_size": 24,
          "mnth_yr": "2018-01",
          "workshop_category": "Academy",
          "workshop_hours": 6
         },
         {
          "class_size": 19,
          "mnth_yr": "2018-01",
          "workshop_category": "Academy",
          "workshop_hours": 9
         },
         {
          "class_size": 29,
          "mnth_yr": "2018-05",
          "workshop_category": "Academy",
          "workshop_hours": 9
         },
         {
          "class_size": 17,
          "mnth_yr": "2018-07",
          "workshop_category": "Corporate",
          "workshop_hours": 30
         },
         {
          "class_size": 15,
          "mnth_yr": "2018-07",
          "workshop_category": "Corporate",
          "workshop_hours": 20
         },
         {
          "class_size": 30,
          "mnth_yr": "2018-07",
          "workshop_category": "Academy",
          "workshop_hours": 9
         },
         {
          "class_size": 30,
          "mnth_yr": "2018-03",
          "workshop_category": "Academy",
          "workshop_hours": 9
         },
         {
          "class_size": 28,
          "mnth_yr": "2018-04",
          "workshop_category": "Academy",
          "workshop_hours": 9
         },
         {
          "class_size": 28,
          "mnth_yr": "2018-04",
          "workshop_category": "Academy",
          "workshop_hours": 9
         },
         {
          "class_size": 29,
          "mnth_yr": "2018-05",
          "workshop_category": "Academy",
          "workshop_hours": 9
         },
         {
          "class_size": 26,
          "mnth_yr": "2018-06",
          "workshop_category": "Academy",
          "workshop_hours": 9
         },
         {
          "class_size": 23,
          "mnth_yr": "2018-06",
          "workshop_category": "Academy",
          "workshop_hours": 9
         },
         {
          "class_size": 12,
          "mnth_yr": "2018-05",
          "workshop_category": "Corporate",
          "workshop_hours": 16
         },
         {
          "class_size": 23,
          "mnth_yr": "2018-07",
          "workshop_category": "Academy",
          "workshop_hours": 9
         },
         {
          "class_size": 23,
          "mnth_yr": "2018-08",
          "workshop_category": "Academy",
          "workshop_hours": 9
         }
        ]
       },
       "encoding": {
        "color": {
         "field": "workshop_category",
         "type": "nominal"
        },
        "x": {
         "aggregate": "sum",
         "field": "class_size",
         "type": "quantitative"
        },
        "y": {
         "field": "mnth_yr",
         "type": "nominal"
        }
       },
       "mark": "bar"
      },
      "image/png": "[encoded data removed]",
      "text/plain": [
       "<VegaLite 2 object>\n",
       "\n",
       "If you see this message, it means the renderer has not been properly enabled\n",
       "for the frontend that you are using. For more information, see\n",
       "https://altair-viz.github.io/user_guide/troubleshooting.html\n"
      ]
     },
     "execution_count": 212,
     "metadata": {},
     "output_type": "execute_result"
    }
   ],
   "source": [
    "alt.Chart(dat).mark_bar().encode(\n",
    "    alt.X(\"sum(class_size)\"),\n",
    "    alt.Y('mnth_yr'),\n",
    "    alt.Color('workshop_category')\n",
    ")"
   ]
  },
  {
   "cell_type": "code",
   "execution_count": 213,
   "metadata": {},
   "outputs": [
    {
     "data": {
      "text/html": [
       "<div>\n",
       "<style scoped>\n",
       "    .dataframe tbody tr th:only-of-type {\n",
       "        vertical-align: middle;\n",
       "    }\n",
       "\n",
       "    .dataframe tbody tr th {\n",
       "        vertical-align: top;\n",
       "    }\n",
       "\n",
       "    .dataframe thead th {\n",
       "        text-align: right;\n",
       "    }\n",
       "</style>\n",
       "<table border=\"1\" class=\"dataframe\">\n",
       "  <thead>\n",
       "    <tr style=\"text-align: right;\">\n",
       "      <th></th>\n",
       "      <th>mnth_yr</th>\n",
       "      <th>workshop_category</th>\n",
       "      <th>variable</th>\n",
       "      <th>value</th>\n",
       "    </tr>\n",
       "  </thead>\n",
       "  <tbody>\n",
       "    <tr>\n",
       "      <th>0</th>\n",
       "      <td>2017-08</td>\n",
       "      <td>DSS</td>\n",
       "      <td>workshop_hours</td>\n",
       "      <td>9</td>\n",
       "    </tr>\n",
       "    <tr>\n",
       "      <th>1</th>\n",
       "      <td>2017-09</td>\n",
       "      <td>DSS</td>\n",
       "      <td>workshop_hours</td>\n",
       "      <td>9</td>\n",
       "    </tr>\n",
       "    <tr>\n",
       "      <th>2</th>\n",
       "      <td>2017-10</td>\n",
       "      <td>DSS</td>\n",
       "      <td>workshop_hours</td>\n",
       "      <td>9</td>\n",
       "    </tr>\n",
       "    <tr>\n",
       "      <th>3</th>\n",
       "      <td>2017-10</td>\n",
       "      <td>DSS</td>\n",
       "      <td>workshop_hours</td>\n",
       "      <td>9</td>\n",
       "    </tr>\n",
       "    <tr>\n",
       "      <th>4</th>\n",
       "      <td>2017-10</td>\n",
       "      <td>Corporate</td>\n",
       "      <td>workshop_hours</td>\n",
       "      <td>18</td>\n",
       "    </tr>\n",
       "  </tbody>\n",
       "</table>\n",
       "</div>"
      ],
      "text/plain": [
       "   mnth_yr workshop_category        variable  value\n",
       "0  2017-08               DSS  workshop_hours      9\n",
       "1  2017-09               DSS  workshop_hours      9\n",
       "2  2017-10               DSS  workshop_hours      9\n",
       "3  2017-10               DSS  workshop_hours      9\n",
       "4  2017-10         Corporate  workshop_hours     18"
      ]
     },
     "execution_count": 213,
     "metadata": {},
     "output_type": "execute_result"
    }
   ],
   "source": [
    "# transform to [mnth_yr, 'workshop_category', 'variable', 'value']\n",
    "# perform a Trellis Stacked Bar Chart later\n",
    "melted = pd.melt(dat, \n",
    "              id_vars=['mnth_yr', 'workshop_category'], \n",
    "              value_vars=['workshop_hours', 'class_size'])\n",
    "melted.head()"
   ]
  },
  {
   "cell_type": "code",
   "execution_count": 214,
   "metadata": {},
   "outputs": [
    {
     "data": {
      "application/vnd.vegalite.v2+json": {
       "$schema": "https://vega.github.io/schema/vega-lite/v2.6.0.json",
       "config": {
        "view": {
         "height": 300,
         "width": 400
        }
       },
       "data": {
        "name": "data-c1ad3c806793293189d56772b496fc9b"
       },
       "datasets": {
        "data-c1ad3c806793293189d56772b496fc9b": [
         {
          "mnth_yr": "2017-08",
          "value": 9,
          "variable": "workshop_hours",
          "workshop_category": "DSS"
         },
         {
          "mnth_yr": "2017-09",
          "value": 9,
          "variable": "workshop_hours",
          "workshop_category": "DSS"
         },
         {
          "mnth_yr": "2017-10",
          "value": 9,
          "variable": "workshop_hours",
          "workshop_category": "DSS"
         },
         {
          "mnth_yr": "2017-10",
          "value": 9,
          "variable": "workshop_hours",
          "workshop_category": "DSS"
         },
         {
          "mnth_yr": "2017-10",
          "value": 18,
          "variable": "workshop_hours",
          "workshop_category": "Corporate"
         },
         {
          "mnth_yr": "2017-11",
          "value": 9,
          "variable": "workshop_hours",
          "workshop_category": "DSS"
         },
         {
          "mnth_yr": "2017-10",
          "value": 18,
          "variable": "workshop_hours",
          "workshop_category": "Corporate"
         },
         {
          "mnth_yr": "2017-09",
          "value": 9,
          "variable": "workshop_hours",
          "workshop_category": "DSS"
         },
         {
          "mnth_yr": "2018-02",
          "value": 16,
          "variable": "workshop_hours",
          "workshop_category": "Corporate"
         },
         {
          "mnth_yr": "2018-05",
          "value": 11,
          "variable": "workshop_hours",
          "workshop_category": "Corporate"
         },
         {
          "mnth_yr": "2018-01",
          "value": 9,
          "variable": "workshop_hours",
          "workshop_category": "Academy"
         },
         {
          "mnth_yr": "2018-01",
          "value": 6,
          "variable": "workshop_hours",
          "workshop_category": "Academy"
         },
         {
          "mnth_yr": "2018-01",
          "value": 9,
          "variable": "workshop_hours",
          "workshop_category": "Academy"
         },
         {
          "mnth_yr": "2018-05",
          "value": 9,
          "variable": "workshop_hours",
          "workshop_category": "Academy"
         },
         {
          "mnth_yr": "2018-07",
          "value": 30,
          "variable": "workshop_hours",
          "workshop_category": "Corporate"
         },
         {
          "mnth_yr": "2018-07",
          "value": 20,
          "variable": "workshop_hours",
          "workshop_category": "Corporate"
         },
         {
          "mnth_yr": "2018-07",
          "value": 9,
          "variable": "workshop_hours",
          "workshop_category": "Academy"
         },
         {
          "mnth_yr": "2018-03",
          "value": 9,
          "variable": "workshop_hours",
          "workshop_category": "Academy"
         },
         {
          "mnth_yr": "2018-04",
          "value": 9,
          "variable": "workshop_hours",
          "workshop_category": "Academy"
         },
         {
          "mnth_yr": "2018-04",
          "value": 9,
          "variable": "workshop_hours",
          "workshop_category": "Academy"
         },
         {
          "mnth_yr": "2018-05",
          "value": 9,
          "variable": "workshop_hours",
          "workshop_category": "Academy"
         },
         {
          "mnth_yr": "2018-06",
          "value": 9,
          "variable": "workshop_hours",
          "workshop_category": "Academy"
         },
         {
          "mnth_yr": "2018-06",
          "value": 9,
          "variable": "workshop_hours",
          "workshop_category": "Academy"
         },
         {
          "mnth_yr": "2018-05",
          "value": 16,
          "variable": "workshop_hours",
          "workshop_category": "Corporate"
         },
         {
          "mnth_yr": "2018-07",
          "value": 9,
          "variable": "workshop_hours",
          "workshop_category": "Academy"
         },
         {
          "mnth_yr": "2018-08",
          "value": 9,
          "variable": "workshop_hours",
          "workshop_category": "Academy"
         },
         {
          "mnth_yr": "2017-08",
          "value": 21,
          "variable": "class_size",
          "workshop_category": "DSS"
         },
         {
          "mnth_yr": "2017-09",
          "value": 30,
          "variable": "class_size",
          "workshop_category": "DSS"
         },
         {
          "mnth_yr": "2017-10",
          "value": 12,
          "variable": "class_size",
          "workshop_category": "DSS"
         },
         {
          "mnth_yr": "2017-10",
          "value": 29,
          "variable": "class_size",
          "workshop_category": "DSS"
         },
         {
          "mnth_yr": "2017-10",
          "value": 5,
          "variable": "class_size",
          "workshop_category": "Corporate"
         },
         {
          "mnth_yr": "2017-11",
          "value": 7,
          "variable": "class_size",
          "workshop_category": "DSS"
         },
         {
          "mnth_yr": "2017-10",
          "value": 10,
          "variable": "class_size",
          "workshop_category": "Corporate"
         },
         {
          "mnth_yr": "2017-09",
          "value": 27,
          "variable": "class_size",
          "workshop_category": "DSS"
         },
         {
          "mnth_yr": "2018-02",
          "value": 10,
          "variable": "class_size",
          "workshop_category": "Corporate"
         },
         {
          "mnth_yr": "2018-05",
          "value": 10,
          "variable": "class_size",
          "workshop_category": "Corporate"
         },
         {
          "mnth_yr": "2018-01",
          "value": 24,
          "variable": "class_size",
          "workshop_category": "Academy"
         },
         {
          "mnth_yr": "2018-01",
          "value": 24,
          "variable": "class_size",
          "workshop_category": "Academy"
         },
         {
          "mnth_yr": "2018-01",
          "value": 19,
          "variable": "class_size",
          "workshop_category": "Academy"
         },
         {
          "mnth_yr": "2018-05",
          "value": 29,
          "variable": "class_size",
          "workshop_category": "Academy"
         },
         {
          "mnth_yr": "2018-07",
          "value": 17,
          "variable": "class_size",
          "workshop_category": "Corporate"
         },
         {
          "mnth_yr": "2018-07",
          "value": 15,
          "variable": "class_size",
          "workshop_category": "Corporate"
         },
         {
          "mnth_yr": "2018-07",
          "value": 30,
          "variable": "class_size",
          "workshop_category": "Academy"
         },
         {
          "mnth_yr": "2018-03",
          "value": 30,
          "variable": "class_size",
          "workshop_category": "Academy"
         },
         {
          "mnth_yr": "2018-04",
          "value": 28,
          "variable": "class_size",
          "workshop_category": "Academy"
         },
         {
          "mnth_yr": "2018-04",
          "value": 28,
          "variable": "class_size",
          "workshop_category": "Academy"
         },
         {
          "mnth_yr": "2018-05",
          "value": 29,
          "variable": "class_size",
          "workshop_category": "Academy"
         },
         {
          "mnth_yr": "2018-06",
          "value": 26,
          "variable": "class_size",
          "workshop_category": "Academy"
         },
         {
          "mnth_yr": "2018-06",
          "value": 23,
          "variable": "class_size",
          "workshop_category": "Academy"
         },
         {
          "mnth_yr": "2018-05",
          "value": 12,
          "variable": "class_size",
          "workshop_category": "Corporate"
         },
         {
          "mnth_yr": "2018-07",
          "value": 23,
          "variable": "class_size",
          "workshop_category": "Academy"
         },
         {
          "mnth_yr": "2018-08",
          "value": 23,
          "variable": "class_size",
          "workshop_category": "Academy"
         }
        ]
       },
       "encoding": {
        "color": {
         "field": "workshop_category",
         "type": "nominal"
        },
        "column": {
         "field": "variable",
         "type": "nominal"
        },
        "x": {
         "aggregate": "sum",
         "field": "value",
         "type": "quantitative"
        },
        "y": {
         "field": "mnth_yr",
         "type": "nominal"
        }
       },
       "mark": "bar",
       "width": 250
      },
      "image/png": "[encoded data removed]",
      "text/plain": [
       "<VegaLite 2 object>\n",
       "\n",
       "If you see this message, it means the renderer has not been properly enabled\n",
       "for the frontend that you are using. For more information, see\n",
       "https://altair-viz.github.io/user_guide/troubleshooting.html\n"
      ]
     },
     "execution_count": 214,
     "metadata": {},
     "output_type": "execute_result"
    }
   ],
   "source": [
    "alt.Chart(melted).mark_bar().encode(\n",
    "    column='variable',\n",
    "    x=alt.X(\"sum(value)\"),\n",
    "    y=alt.Y('mnth_yr'),\n",
    "    color=alt.Color('workshop_category')\n",
    ").properties(\n",
    "    width=250\n",
    ")"
   ]
  },
  {
   "cell_type": "code",
   "execution_count": 215,
   "metadata": {},
   "outputs": [
    {
     "data": {
      "text/html": [
       "<div>\n",
       "<style scoped>\n",
       "    .dataframe tbody tr th:only-of-type {\n",
       "        vertical-align: middle;\n",
       "    }\n",
       "\n",
       "    .dataframe tbody tr th {\n",
       "        vertical-align: top;\n",
       "    }\n",
       "\n",
       "    .dataframe thead th {\n",
       "        text-align: right;\n",
       "    }\n",
       "</style>\n",
       "<table border=\"1\" class=\"dataframe\">\n",
       "  <thead>\n",
       "    <tr style=\"text-align: right;\">\n",
       "      <th></th>\n",
       "      <th>workshop_name</th>\n",
       "      <th>workshop_category</th>\n",
       "      <th>workshop_instructor</th>\n",
       "      <th>workshop_start</th>\n",
       "      <th>workshop_hours</th>\n",
       "      <th>workshop_venue</th>\n",
       "      <th>class_size</th>\n",
       "      <th>mnth_yr</th>\n",
       "      <th>this_user</th>\n",
       "    </tr>\n",
       "    <tr>\n",
       "      <th>id</th>\n",
       "      <th></th>\n",
       "      <th></th>\n",
       "      <th></th>\n",
       "      <th></th>\n",
       "      <th></th>\n",
       "      <th></th>\n",
       "      <th></th>\n",
       "      <th></th>\n",
       "      <th></th>\n",
       "    </tr>\n",
       "  </thead>\n",
       "  <tbody>\n",
       "    <tr>\n",
       "      <th>1</th>\n",
       "      <td>Data Science Fundamentals ML Aug 17</td>\n",
       "      <td>2</td>\n",
       "      <td>1</td>\n",
       "      <td>2017-08-15 18:00:00</td>\n",
       "      <td>9</td>\n",
       "      <td>Base Cowork Lounge</td>\n",
       "      <td>21</td>\n",
       "      <td>2017-08</td>\n",
       "      <td>True</td>\n",
       "    </tr>\n",
       "    <tr>\n",
       "      <th>2</th>\n",
       "      <td>Data Science Fundamentals ML Sep 17</td>\n",
       "      <td>2</td>\n",
       "      <td>1</td>\n",
       "      <td>2017-09-27 18:00:00</td>\n",
       "      <td>9</td>\n",
       "      <td>Base Cowork Lounge</td>\n",
       "      <td>30</td>\n",
       "      <td>2017-09</td>\n",
       "      <td>True</td>\n",
       "    </tr>\n",
       "    <tr>\n",
       "      <th>3</th>\n",
       "      <td>Data Science Fundamentals DV Oct 17</td>\n",
       "      <td>2</td>\n",
       "      <td>1</td>\n",
       "      <td>2017-10-10 18:00:00</td>\n",
       "      <td>9</td>\n",
       "      <td>Block 71</td>\n",
       "      <td>12</td>\n",
       "      <td>2017-10</td>\n",
       "      <td>True</td>\n",
       "    </tr>\n",
       "    <tr>\n",
       "      <th>4</th>\n",
       "      <td>Data Science Fundamentals ML Oct 17</td>\n",
       "      <td>2</td>\n",
       "      <td>1</td>\n",
       "      <td>2017-10-23 18:00:00</td>\n",
       "      <td>9</td>\n",
       "      <td>Block 71</td>\n",
       "      <td>29</td>\n",
       "      <td>2017-10</td>\n",
       "      <td>True</td>\n",
       "    </tr>\n",
       "    <tr>\n",
       "      <th>5</th>\n",
       "      <td>PT SPIL 2017</td>\n",
       "      <td>1</td>\n",
       "      <td>1</td>\n",
       "      <td>2017-10-17 10:00:00</td>\n",
       "      <td>18</td>\n",
       "      <td>PT. SPIL, Surabaya</td>\n",
       "      <td>5</td>\n",
       "      <td>2017-10</td>\n",
       "      <td>True</td>\n",
       "    </tr>\n",
       "  </tbody>\n",
       "</table>\n",
       "</div>"
      ],
      "text/plain": [
       "                          workshop_name  workshop_category  \\\n",
       "id                                                           \n",
       "1   Data Science Fundamentals ML Aug 17                  2   \n",
       "2   Data Science Fundamentals ML Sep 17                  2   \n",
       "3   Data Science Fundamentals DV Oct 17                  2   \n",
       "4   Data Science Fundamentals ML Oct 17                  2   \n",
       "5                          PT SPIL 2017                  1   \n",
       "\n",
       "    workshop_instructor      workshop_start  workshop_hours  \\\n",
       "id                                                            \n",
       "1                     1 2017-08-15 18:00:00               9   \n",
       "2                     1 2017-09-27 18:00:00               9   \n",
       "3                     1 2017-10-10 18:00:00               9   \n",
       "4                     1 2017-10-23 18:00:00               9   \n",
       "5                     1 2017-10-17 10:00:00              18   \n",
       "\n",
       "        workshop_venue  class_size mnth_yr  this_user  \n",
       "id                                                     \n",
       "1   Base Cowork Lounge          21 2017-08       True  \n",
       "2   Base Cowork Lounge          30 2017-09       True  \n",
       "3             Block 71          12 2017-10       True  \n",
       "4             Block 71          29 2017-10       True  \n",
       "5   PT. SPIL, Surabaya           5 2017-10       True  "
      ]
     },
     "execution_count": 215,
     "metadata": {},
     "output_type": "execute_result"
    }
   ],
   "source": [
    "df['workshop_category'] = df['workshop_category'].astype('category')\n",
    "df['workshop_category'] = pd.Categorical(df['workshop_category']).codes\n",
    "df.head()"
   ]
  },
  {
   "cell_type": "code",
   "execution_count": 217,
   "metadata": {},
   "outputs": [
    {
     "data": {
      "text/html": [
       "<div>\n",
       "<style scoped>\n",
       "    .dataframe tbody tr th:only-of-type {\n",
       "        vertical-align: middle;\n",
       "    }\n",
       "\n",
       "    .dataframe tbody tr th {\n",
       "        vertical-align: top;\n",
       "    }\n",
       "\n",
       "    .dataframe thead th {\n",
       "        text-align: right;\n",
       "    }\n",
       "</style>\n",
       "<table border=\"1\" class=\"dataframe\">\n",
       "  <thead>\n",
       "    <tr style=\"text-align: right;\">\n",
       "      <th></th>\n",
       "      <th>workshop_category</th>\n",
       "      <th>workshop_instructor</th>\n",
       "      <th>workshop_hours</th>\n",
       "      <th>class_size</th>\n",
       "      <th>this_user</th>\n",
       "    </tr>\n",
       "    <tr>\n",
       "      <th>workshop_start</th>\n",
       "      <th></th>\n",
       "      <th></th>\n",
       "      <th></th>\n",
       "      <th></th>\n",
       "      <th></th>\n",
       "    </tr>\n",
       "  </thead>\n",
       "  <tbody>\n",
       "    <tr>\n",
       "      <th>2017-08-20</th>\n",
       "      <td>2</td>\n",
       "      <td>1</td>\n",
       "      <td>9</td>\n",
       "      <td>21</td>\n",
       "      <td>1.0</td>\n",
       "    </tr>\n",
       "    <tr>\n",
       "      <th>2017-08-27</th>\n",
       "      <td>0</td>\n",
       "      <td>0</td>\n",
       "      <td>0</td>\n",
       "      <td>0</td>\n",
       "      <td>0.0</td>\n",
       "    </tr>\n",
       "    <tr>\n",
       "      <th>2017-09-03</th>\n",
       "      <td>0</td>\n",
       "      <td>0</td>\n",
       "      <td>0</td>\n",
       "      <td>0</td>\n",
       "      <td>0.0</td>\n",
       "    </tr>\n",
       "    <tr>\n",
       "      <th>2017-09-10</th>\n",
       "      <td>0</td>\n",
       "      <td>0</td>\n",
       "      <td>0</td>\n",
       "      <td>0</td>\n",
       "      <td>0.0</td>\n",
       "    </tr>\n",
       "    <tr>\n",
       "      <th>2017-09-17</th>\n",
       "      <td>2</td>\n",
       "      <td>1</td>\n",
       "      <td>9</td>\n",
       "      <td>27</td>\n",
       "      <td>1.0</td>\n",
       "    </tr>\n",
       "  </tbody>\n",
       "</table>\n",
       "</div>"
      ],
      "text/plain": [
       "                workshop_category  workshop_instructor  workshop_hours  \\\n",
       "workshop_start                                                           \n",
       "2017-08-20                      2                    1               9   \n",
       "2017-08-27                      0                    0               0   \n",
       "2017-09-03                      0                    0               0   \n",
       "2017-09-10                      0                    0               0   \n",
       "2017-09-17                      2                    1               9   \n",
       "\n",
       "                class_size  this_user  \n",
       "workshop_start                         \n",
       "2017-08-20              21        1.0  \n",
       "2017-08-27               0        0.0  \n",
       "2017-09-03               0        0.0  \n",
       "2017-09-10               0        0.0  \n",
       "2017-09-17              27        1.0  "
      ]
     },
     "execution_count": 217,
     "metadata": {},
     "output_type": "execute_result"
    }
   ],
   "source": [
    "dat = df.set_index('workshop_start').resample('W').sum()\n",
    "dat.head()"
   ]
  },
  {
   "cell_type": "code",
   "execution_count": 218,
   "metadata": {},
   "outputs": [
    {
     "data": {
      "text/html": [
       "<div>\n",
       "<style scoped>\n",
       "    .dataframe tbody tr th:only-of-type {\n",
       "        vertical-align: middle;\n",
       "    }\n",
       "\n",
       "    .dataframe tbody tr th {\n",
       "        vertical-align: top;\n",
       "    }\n",
       "\n",
       "    .dataframe thead th {\n",
       "        text-align: right;\n",
       "    }\n",
       "</style>\n",
       "<table border=\"1\" class=\"dataframe\">\n",
       "  <thead>\n",
       "    <tr style=\"text-align: right;\">\n",
       "      <th></th>\n",
       "      <th>workshop_start</th>\n",
       "      <th>workshop_category</th>\n",
       "      <th>variable</th>\n",
       "      <th>value</th>\n",
       "    </tr>\n",
       "  </thead>\n",
       "  <tbody>\n",
       "    <tr>\n",
       "      <th>0</th>\n",
       "      <td>2017-08-20</td>\n",
       "      <td>2</td>\n",
       "      <td>workshop_hours</td>\n",
       "      <td>9</td>\n",
       "    </tr>\n",
       "    <tr>\n",
       "      <th>1</th>\n",
       "      <td>2017-08-27</td>\n",
       "      <td>0</td>\n",
       "      <td>workshop_hours</td>\n",
       "      <td>0</td>\n",
       "    </tr>\n",
       "    <tr>\n",
       "      <th>2</th>\n",
       "      <td>2017-09-03</td>\n",
       "      <td>0</td>\n",
       "      <td>workshop_hours</td>\n",
       "      <td>0</td>\n",
       "    </tr>\n",
       "    <tr>\n",
       "      <th>3</th>\n",
       "      <td>2017-09-10</td>\n",
       "      <td>0</td>\n",
       "      <td>workshop_hours</td>\n",
       "      <td>0</td>\n",
       "    </tr>\n",
       "    <tr>\n",
       "      <th>4</th>\n",
       "      <td>2017-09-17</td>\n",
       "      <td>2</td>\n",
       "      <td>workshop_hours</td>\n",
       "      <td>9</td>\n",
       "    </tr>\n",
       "  </tbody>\n",
       "</table>\n",
       "</div>"
      ],
      "text/plain": [
       "  workshop_start  workshop_category        variable  value\n",
       "0     2017-08-20                  2  workshop_hours      9\n",
       "1     2017-08-27                  0  workshop_hours      0\n",
       "2     2017-09-03                  0  workshop_hours      0\n",
       "3     2017-09-10                  0  workshop_hours      0\n",
       "4     2017-09-17                  2  workshop_hours      9"
      ]
     },
     "execution_count": 218,
     "metadata": {},
     "output_type": "execute_result"
    }
   ],
   "source": [
    "melted = pd.melt(dat.reset_index(), \n",
    "              id_vars=['workshop_start','workshop_category'], \n",
    "              value_vars=['workshop_hours', 'class_size'])\n",
    "melted.head()"
   ]
  },
  {
   "cell_type": "code",
   "execution_count": 219,
   "metadata": {},
   "outputs": [
    {
     "data": {
      "text/html": [
       "<div>\n",
       "<style scoped>\n",
       "    .dataframe tbody tr th:only-of-type {\n",
       "        vertical-align: middle;\n",
       "    }\n",
       "\n",
       "    .dataframe tbody tr th {\n",
       "        vertical-align: top;\n",
       "    }\n",
       "\n",
       "    .dataframe thead th {\n",
       "        text-align: right;\n",
       "    }\n",
       "</style>\n",
       "<table border=\"1\" class=\"dataframe\">\n",
       "  <thead>\n",
       "    <tr style=\"text-align: right;\">\n",
       "      <th></th>\n",
       "      <th>workshop_start</th>\n",
       "      <th>workshop_category</th>\n",
       "      <th>variable</th>\n",
       "      <th>value</th>\n",
       "      <th>cumsum</th>\n",
       "    </tr>\n",
       "  </thead>\n",
       "  <tbody>\n",
       "    <tr>\n",
       "      <th>0</th>\n",
       "      <td>2017-08-20</td>\n",
       "      <td>Public</td>\n",
       "      <td>workshop_hours</td>\n",
       "      <td>9</td>\n",
       "      <td>9</td>\n",
       "    </tr>\n",
       "    <tr>\n",
       "      <th>4</th>\n",
       "      <td>2017-09-17</td>\n",
       "      <td>Public</td>\n",
       "      <td>workshop_hours</td>\n",
       "      <td>9</td>\n",
       "      <td>18</td>\n",
       "    </tr>\n",
       "    <tr>\n",
       "      <th>8</th>\n",
       "      <td>2017-10-15</td>\n",
       "      <td>Public</td>\n",
       "      <td>workshop_hours</td>\n",
       "      <td>9</td>\n",
       "      <td>27</td>\n",
       "    </tr>\n",
       "    <tr>\n",
       "      <th>10</th>\n",
       "      <td>2017-10-29</td>\n",
       "      <td>Public</td>\n",
       "      <td>workshop_hours</td>\n",
       "      <td>9</td>\n",
       "      <td>36</td>\n",
       "    </tr>\n",
       "    <tr>\n",
       "      <th>14</th>\n",
       "      <td>2017-11-26</td>\n",
       "      <td>Public</td>\n",
       "      <td>workshop_hours</td>\n",
       "      <td>9</td>\n",
       "      <td>45</td>\n",
       "    </tr>\n",
       "  </tbody>\n",
       "</table>\n",
       "</div>"
      ],
      "text/plain": [
       "   workshop_start workshop_category        variable  value  cumsum\n",
       "0      2017-08-20            Public  workshop_hours      9       9\n",
       "4      2017-09-17            Public  workshop_hours      9      18\n",
       "8      2017-10-15            Public  workshop_hours      9      27\n",
       "10     2017-10-29            Public  workshop_hours      9      36\n",
       "14     2017-11-26            Public  workshop_hours      9      45"
      ]
     },
     "execution_count": 219,
     "metadata": {},
     "output_type": "execute_result"
    }
   ],
   "source": [
    "melted['workshop_category'] = melted['workshop_category'].apply(lambda x: 'Public' if (x == 0 | x == 2) else 'Corporate' )\n",
    "melted['cumsum'] = melted.groupby(['variable','workshop_category']).cumsum().fillna(0)\n",
    "melted[melted.workshop_category == \"Public\"].head()"
   ]
  },
  {
   "cell_type": "code",
   "execution_count": 220,
   "metadata": {},
   "outputs": [
    {
     "data": {
      "application/vnd.vegalite.v2+json": {
       "$schema": "https://vega.github.io/schema/vega-lite/v2.6.0.json",
       "config": {
        "view": {
         "height": 300,
         "width": 400
        }
       },
       "data": {
        "name": "data-cf485f565d7db0907faa9f423578f1a0"
       },
       "datasets": {
        "data-cf485f565d7db0907faa9f423578f1a0": [
         {
          "cumsum": 9,
          "value": 9,
          "variable": "workshop_hours",
          "workshop_category": "Public",
          "workshop_start": "2017-08-20T00:00:00"
         },
         {
          "cumsum": 0,
          "value": 0,
          "variable": "workshop_hours",
          "workshop_category": "Corporate",
          "workshop_start": "2017-08-27T00:00:00"
         },
         {
          "cumsum": 0,
          "value": 0,
          "variable": "workshop_hours",
          "workshop_category": "Corporate",
          "workshop_start": "2017-09-03T00:00:00"
         },
         {
          "cumsum": 0,
          "value": 0,
          "variable": "workshop_hours",
          "workshop_category": "Corporate",
          "workshop_start": "2017-09-10T00:00:00"
         },
         {
          "cumsum": 18,
          "value": 9,
          "variable": "workshop_hours",
          "workshop_category": "Public",
          "workshop_start": "2017-09-17T00:00:00"
         },
         {
          "cumsum": 0,
          "value": 0,
          "variable": "workshop_hours",
          "workshop_category": "Corporate",
          "workshop_start": "2017-09-24T00:00:00"
         },
         {
          "cumsum": 27,
          "value": 27,
          "variable": "workshop_hours",
          "workshop_category": "Corporate",
          "workshop_start": "2017-10-01T00:00:00"
         },
         {
          "cumsum": 27,
          "value": 0,
          "variable": "workshop_hours",
          "workshop_category": "Corporate",
          "workshop_start": "2017-10-08T00:00:00"
         },
         {
          "cumsum": 27,
          "value": 9,
          "variable": "workshop_hours",
          "workshop_category": "Public",
          "workshop_start": "2017-10-15T00:00:00"
         },
         {
          "cumsum": 45,
          "value": 18,
          "variable": "workshop_hours",
          "workshop_category": "Corporate",
          "workshop_start": "2017-10-22T00:00:00"
         },
         {
          "cumsum": 36,
          "value": 9,
          "variable": "workshop_hours",
          "workshop_category": "Public",
          "workshop_start": "2017-10-29T00:00:00"
         },
         {
          "cumsum": 45,
          "value": 0,
          "variable": "workshop_hours",
          "workshop_category": "Corporate",
          "workshop_start": "2017-11-05T00:00:00"
         },
         {
          "cumsum": 63,
          "value": 18,
          "variable": "workshop_hours",
          "workshop_category": "Corporate",
          "workshop_start": "2017-11-12T00:00:00"
         },
         {
          "cumsum": 84,
          "value": 21,
          "variable": "workshop_hours",
          "workshop_category": "Corporate",
          "workshop_start": "2017-11-19T00:00:00"
         },
         {
          "cumsum": 45,
          "value": 9,
          "variable": "workshop_hours",
          "workshop_category": "Public",
          "workshop_start": "2017-11-26T00:00:00"
         },
         {
          "cumsum": 84,
          "value": 0,
          "variable": "workshop_hours",
          "workshop_category": "Corporate",
          "workshop_start": "2017-12-03T00:00:00"
         },
         {
          "cumsum": 84,
          "value": 0,
          "variable": "workshop_hours",
          "workshop_category": "Corporate",
          "workshop_start": "2017-12-10T00:00:00"
         },
         {
          "cumsum": 84,
          "value": 0,
          "variable": "workshop_hours",
          "workshop_category": "Corporate",
          "workshop_start": "2017-12-17T00:00:00"
         },
         {
          "cumsum": 102,
          "value": 18,
          "variable": "workshop_hours",
          "workshop_category": "Corporate",
          "workshop_start": "2017-12-24T00:00:00"
         },
         {
          "cumsum": 102,
          "value": 0,
          "variable": "workshop_hours",
          "workshop_category": "Corporate",
          "workshop_start": "2017-12-31T00:00:00"
         },
         {
          "cumsum": 102,
          "value": 0,
          "variable": "workshop_hours",
          "workshop_category": "Corporate",
          "workshop_start": "2018-01-07T00:00:00"
         },
         {
          "cumsum": 102,
          "value": 0,
          "variable": "workshop_hours",
          "workshop_category": "Corporate",
          "workshop_start": "2018-01-14T00:00:00"
         },
         {
          "cumsum": 117,
          "value": 15,
          "variable": "workshop_hours",
          "workshop_category": "Corporate",
          "workshop_start": "2018-01-21T00:00:00"
         },
         {
          "cumsum": 117,
          "value": 0,
          "variable": "workshop_hours",
          "workshop_category": "Corporate",
          "workshop_start": "2018-01-28T00:00:00"
         },
         {
          "cumsum": 126,
          "value": 9,
          "variable": "workshop_hours",
          "workshop_category": "Corporate",
          "workshop_start": "2018-02-04T00:00:00"
         },
         {
          "cumsum": 142,
          "value": 16,
          "variable": "workshop_hours",
          "workshop_category": "Corporate",
          "workshop_start": "2018-02-11T00:00:00"
         },
         {
          "cumsum": 142,
          "value": 0,
          "variable": "workshop_hours",
          "workshop_category": "Corporate",
          "workshop_start": "2018-02-18T00:00:00"
         },
         {
          "cumsum": 51,
          "value": 6,
          "variable": "workshop_hours",
          "workshop_category": "Public",
          "workshop_start": "2018-02-25T00:00:00"
         },
         {
          "cumsum": 142,
          "value": 0,
          "variable": "workshop_hours",
          "workshop_category": "Corporate",
          "workshop_start": "2018-03-04T00:00:00"
         },
         {
          "cumsum": 142,
          "value": 0,
          "variable": "workshop_hours",
          "workshop_category": "Corporate",
          "workshop_start": "2018-03-11T00:00:00"
         },
         {
          "cumsum": 160,
          "value": 18,
          "variable": "workshop_hours",
          "workshop_category": "Corporate",
          "workshop_start": "2018-03-18T00:00:00"
         },
         {
          "cumsum": 160,
          "value": 0,
          "variable": "workshop_hours",
          "workshop_category": "Corporate",
          "workshop_start": "2018-03-25T00:00:00"
         },
         {
          "cumsum": 169,
          "value": 9,
          "variable": "workshop_hours",
          "workshop_category": "Corporate",
          "workshop_start": "2018-04-01T00:00:00"
         },
         {
          "cumsum": 169,
          "value": 0,
          "variable": "workshop_hours",
          "workshop_category": "Corporate",
          "workshop_start": "2018-04-08T00:00:00"
         },
         {
          "cumsum": 178,
          "value": 9,
          "variable": "workshop_hours",
          "workshop_category": "Corporate",
          "workshop_start": "2018-04-15T00:00:00"
         },
         {
          "cumsum": 178,
          "value": 0,
          "variable": "workshop_hours",
          "workshop_category": "Corporate",
          "workshop_start": "2018-04-22T00:00:00"
         },
         {
          "cumsum": 187,
          "value": 9,
          "variable": "workshop_hours",
          "workshop_category": "Corporate",
          "workshop_start": "2018-04-29T00:00:00"
         },
         {
          "cumsum": 203,
          "value": 16,
          "variable": "workshop_hours",
          "workshop_category": "Corporate",
          "workshop_start": "2018-05-06T00:00:00"
         },
         {
          "cumsum": 212,
          "value": 9,
          "variable": "workshop_hours",
          "workshop_category": "Corporate",
          "workshop_start": "2018-05-13T00:00:00"
         },
         {
          "cumsum": 80,
          "value": 29,
          "variable": "workshop_hours",
          "workshop_category": "Public",
          "workshop_start": "2018-05-20T00:00:00"
         },
         {
          "cumsum": 96,
          "value": 16,
          "variable": "workshop_hours",
          "workshop_category": "Public",
          "workshop_start": "2018-05-27T00:00:00"
         },
         {
          "cumsum": 212,
          "value": 0,
          "variable": "workshop_hours",
          "workshop_category": "Corporate",
          "workshop_start": "2018-06-03T00:00:00"
         },
         {
          "cumsum": 221,
          "value": 9,
          "variable": "workshop_hours",
          "workshop_category": "Corporate",
          "workshop_start": "2018-06-10T00:00:00"
         },
         {
          "cumsum": 221,
          "value": 0,
          "variable": "workshop_hours",
          "workshop_category": "Corporate",
          "workshop_start": "2018-06-17T00:00:00"
         },
         {
          "cumsum": 221,
          "value": 0,
          "variable": "workshop_hours",
          "workshop_category": "Corporate",
          "workshop_start": "2018-06-24T00:00:00"
         },
         {
          "cumsum": 257,
          "value": 36,
          "variable": "workshop_hours",
          "workshop_category": "Corporate",
          "workshop_start": "2018-07-01T00:00:00"
         },
         {
          "cumsum": 305,
          "value": 48,
          "variable": "workshop_hours",
          "workshop_category": "Corporate",
          "workshop_start": "2018-07-08T00:00:00"
         },
         {
          "cumsum": 325,
          "value": 20,
          "variable": "workshop_hours",
          "workshop_category": "Corporate",
          "workshop_start": "2018-07-15T00:00:00"
         },
         {
          "cumsum": 325,
          "value": 0,
          "variable": "workshop_hours",
          "workshop_category": "Corporate",
          "workshop_start": "2018-07-22T00:00:00"
         },
         {
          "cumsum": 325,
          "value": 0,
          "variable": "workshop_hours",
          "workshop_category": "Corporate",
          "workshop_start": "2018-07-29T00:00:00"
         },
         {
          "cumsum": 334,
          "value": 9,
          "variable": "workshop_hours",
          "workshop_category": "Corporate",
          "workshop_start": "2018-08-05T00:00:00"
         },
         {
          "cumsum": 334,
          "value": 0,
          "variable": "workshop_hours",
          "workshop_category": "Corporate",
          "workshop_start": "2018-08-12T00:00:00"
         },
         {
          "cumsum": 352,
          "value": 18,
          "variable": "workshop_hours",
          "workshop_category": "Corporate",
          "workshop_start": "2018-08-19T00:00:00"
         },
         {
          "cumsum": 21,
          "value": 21,
          "variable": "class_size",
          "workshop_category": "Public",
          "workshop_start": "2017-08-20T00:00:00"
         },
         {
          "cumsum": 0,
          "value": 0,
          "variable": "class_size",
          "workshop_category": "Corporate",
          "workshop_start": "2017-08-27T00:00:00"
         },
         {
          "cumsum": 0,
          "value": 0,
          "variable": "class_size",
          "workshop_category": "Corporate",
          "workshop_start": "2017-09-03T00:00:00"
         },
         {
          "cumsum": 0,
          "value": 0,
          "variable": "class_size",
          "workshop_category": "Corporate",
          "workshop_start": "2017-09-10T00:00:00"
         },
         {
          "cumsum": 48,
          "value": 27,
          "variable": "class_size",
          "workshop_category": "Public",
          "workshop_start": "2017-09-17T00:00:00"
         },
         {
          "cumsum": 0,
          "value": 0,
          "variable": "class_size",
          "workshop_category": "Corporate",
          "workshop_start": "2017-09-24T00:00:00"
         },
         {
          "cumsum": 40,
          "value": 40,
          "variable": "class_size",
          "workshop_category": "Corporate",
          "workshop_start": "2017-10-01T00:00:00"
         },
         {
          "cumsum": 40,
          "value": 0,
          "variable": "class_size",
          "workshop_category": "Corporate",
          "workshop_start": "2017-10-08T00:00:00"
         },
         {
          "cumsum": 60,
          "value": 12,
          "variable": "class_size",
          "workshop_category": "Public",
          "workshop_start": "2017-10-15T00:00:00"
         },
         {
          "cumsum": 45,
          "value": 5,
          "variable": "class_size",
          "workshop_category": "Corporate",
          "workshop_start": "2017-10-22T00:00:00"
         },
         {
          "cumsum": 89,
          "value": 29,
          "variable": "class_size",
          "workshop_category": "Public",
          "workshop_start": "2017-10-29T00:00:00"
         },
         {
          "cumsum": 45,
          "value": 0,
          "variable": "class_size",
          "workshop_category": "Corporate",
          "workshop_start": "2017-11-05T00:00:00"
         },
         {
          "cumsum": 68,
          "value": 23,
          "variable": "class_size",
          "workshop_category": "Corporate",
          "workshop_start": "2017-11-12T00:00:00"
         },
         {
          "cumsum": 73,
          "value": 5,
          "variable": "class_size",
          "workshop_category": "Corporate",
          "workshop_start": "2017-11-19T00:00:00"
         },
         {
          "cumsum": 105,
          "value": 16,
          "variable": "class_size",
          "workshop_category": "Public",
          "workshop_start": "2017-11-26T00:00:00"
         },
         {
          "cumsum": 73,
          "value": 0,
          "variable": "class_size",
          "workshop_category": "Corporate",
          "workshop_start": "2017-12-03T00:00:00"
         },
         {
          "cumsum": 73,
          "value": 0,
          "variable": "class_size",
          "workshop_category": "Corporate",
          "workshop_start": "2017-12-10T00:00:00"
         },
         {
          "cumsum": 73,
          "value": 0,
          "variable": "class_size",
          "workshop_category": "Corporate",
          "workshop_start": "2017-12-17T00:00:00"
         },
         {
          "cumsum": 89,
          "value": 16,
          "variable": "class_size",
          "workshop_category": "Corporate",
          "workshop_start": "2017-12-24T00:00:00"
         },
         {
          "cumsum": 89,
          "value": 0,
          "variable": "class_size",
          "workshop_category": "Corporate",
          "workshop_start": "2017-12-31T00:00:00"
         },
         {
          "cumsum": 89,
          "value": 0,
          "variable": "class_size",
          "workshop_category": "Corporate",
          "workshop_start": "2018-01-07T00:00:00"
         },
         {
          "cumsum": 89,
          "value": 0,
          "variable": "class_size",
          "workshop_category": "Corporate",
          "workshop_start": "2018-01-14T00:00:00"
         },
         {
          "cumsum": 137,
          "value": 48,
          "variable": "class_size",
          "workshop_category": "Corporate",
          "workshop_start": "2018-01-21T00:00:00"
         },
         {
          "cumsum": 137,
          "value": 0,
          "variable": "class_size",
          "workshop_category": "Corporate",
          "workshop_start": "2018-01-28T00:00:00"
         },
         {
          "cumsum": 156,
          "value": 19,
          "variable": "class_size",
          "workshop_category": "Corporate",
          "workshop_start": "2018-02-04T00:00:00"
         },
         {
          "cumsum": 166,
          "value": 10,
          "variable": "class_size",
          "workshop_category": "Corporate",
          "workshop_start": "2018-02-11T00:00:00"
         },
         {
          "cumsum": 166,
          "value": 0,
          "variable": "class_size",
          "workshop_category": "Corporate",
          "workshop_start": "2018-02-18T00:00:00"
         },
         {
          "cumsum": 128,
          "value": 23,
          "variable": "class_size",
          "workshop_category": "Public",
          "workshop_start": "2018-02-25T00:00:00"
         },
         {
          "cumsum": 166,
          "value": 0,
          "variable": "class_size",
          "workshop_category": "Corporate",
          "workshop_start": "2018-03-04T00:00:00"
         },
         {
          "cumsum": 166,
          "value": 0,
          "variable": "class_size",
          "workshop_category": "Corporate",
          "workshop_start": "2018-03-11T00:00:00"
         },
         {
          "cumsum": 206,
          "value": 40,
          "variable": "class_size",
          "workshop_category": "Corporate",
          "workshop_start": "2018-03-18T00:00:00"
         },
         {
          "cumsum": 206,
          "value": 0,
          "variable": "class_size",
          "workshop_category": "Corporate",
          "workshop_start": "2018-03-25T00:00:00"
         },
         {
          "cumsum": 236,
          "value": 30,
          "variable": "class_size",
          "workshop_category": "Corporate",
          "workshop_start": "2018-04-01T00:00:00"
         },
         {
          "cumsum": 236,
          "value": 0,
          "variable": "class_size",
          "workshop_category": "Corporate",
          "workshop_start": "2018-04-08T00:00:00"
         },
         {
          "cumsum": 264,
          "value": 28,
          "variable": "class_size",
          "workshop_category": "Corporate",
          "workshop_start": "2018-04-15T00:00:00"
         },
         {
          "cumsum": 264,
          "value": 0,
          "variable": "class_size",
          "workshop_category": "Corporate",
          "workshop_start": "2018-04-22T00:00:00"
         },
         {
          "cumsum": 292,
          "value": 28,
          "variable": "class_size",
          "workshop_category": "Corporate",
          "workshop_start": "2018-04-29T00:00:00"
         },
         {
          "cumsum": 304,
          "value": 12,
          "variable": "class_size",
          "workshop_category": "Corporate",
          "workshop_start": "2018-05-06T00:00:00"
         },
         {
          "cumsum": 333,
          "value": 29,
          "variable": "class_size",
          "workshop_category": "Corporate",
          "workshop_start": "2018-05-13T00:00:00"
         },
         {
          "cumsum": 148,
          "value": 20,
          "variable": "class_size",
          "workshop_category": "Public",
          "workshop_start": "2018-05-20T00:00:00"
         },
         {
          "cumsum": 211,
          "value": 63,
          "variable": "class_size",
          "workshop_category": "Public",
          "workshop_start": "2018-05-27T00:00:00"
         },
         {
          "cumsum": 333,
          "value": 0,
          "variable": "class_size",
          "workshop_category": "Corporate",
          "workshop_start": "2018-06-03T00:00:00"
         },
         {
          "cumsum": 359,
          "value": 26,
          "variable": "class_size",
          "workshop_category": "Corporate",
          "workshop_start": "2018-06-10T00:00:00"
         },
         {
          "cumsum": 359,
          "value": 0,
          "variable": "class_size",
          "workshop_category": "Corporate",
          "workshop_start": "2018-06-17T00:00:00"
         },
         {
          "cumsum": 359,
          "value": 0,
          "variable": "class_size",
          "workshop_category": "Corporate",
          "workshop_start": "2018-06-24T00:00:00"
         },
         {
          "cumsum": 430,
          "value": 71,
          "variable": "class_size",
          "workshop_category": "Corporate",
          "workshop_start": "2018-07-01T00:00:00"
         },
         {
          "cumsum": 492,
          "value": 62,
          "variable": "class_size",
          "workshop_category": "Corporate",
          "workshop_start": "2018-07-08T00:00:00"
         },
         {
          "cumsum": 507,
          "value": 15,
          "variable": "class_size",
          "workshop_category": "Corporate",
          "workshop_start": "2018-07-15T00:00:00"
         },
         {
          "cumsum": 507,
          "value": 0,
          "variable": "class_size",
          "workshop_category": "Corporate",
          "workshop_start": "2018-07-22T00:00:00"
         },
         {
          "cumsum": 507,
          "value": 0,
          "variable": "class_size",
          "workshop_category": "Corporate",
          "workshop_start": "2018-07-29T00:00:00"
         },
         {
          "cumsum": 530,
          "value": 23,
          "variable": "class_size",
          "workshop_category": "Corporate",
          "workshop_start": "2018-08-05T00:00:00"
         },
         {
          "cumsum": 530,
          "value": 0,
          "variable": "class_size",
          "workshop_category": "Corporate",
          "workshop_start": "2018-08-12T00:00:00"
         },
         {
          "cumsum": 569,
          "value": 39,
          "variable": "class_size",
          "workshop_category": "Corporate",
          "workshop_start": "2018-08-19T00:00:00"
         }
        ]
       },
       "encoding": {
        "color": {
         "field": "variable",
         "type": "nominal"
        },
        "column": {
         "field": "workshop_category",
         "type": "nominal"
        },
        "x": {
         "field": "workshop_start",
         "type": "temporal"
        },
        "y": {
         "aggregate": "sum",
         "field": "cumsum",
         "type": "quantitative"
        }
       },
       "mark": "area",
       "width": 250
      },
      "image/png": "[encoded data removed]",
      "text/plain": [
       "<VegaLite 2 object>\n",
       "\n",
       "If you see this message, it means the renderer has not been properly enabled\n",
       "for the frontend that you are using. For more information, see\n",
       "https://altair-viz.github.io/user_guide/troubleshooting.html\n"
      ]
     },
     "execution_count": 220,
     "metadata": {},
     "output_type": "execute_result"
    }
   ],
   "source": [
    "alt.Chart(melted).mark_area().encode(\n",
    "    column='workshop_category',\n",
    "    x=alt.X(\"workshop_start\"),\n",
    "    y=alt.Y(\"sum(cumsum)\"),\n",
    "    color=alt.Color(\"variable\")\n",
    ").properties(\n",
    "    width=250\n",
    ")"
   ]
  },
  {
   "cell_type": "code",
   "execution_count": 221,
   "metadata": {},
   "outputs": [
    {
     "data": {
      "application/vnd.vegalite.v2+json": {
       "$schema": "https://vega.github.io/schema/vega-lite/v2.6.0.json",
       "config": {
        "view": {
         "height": 300,
         "width": 400
        }
       },
       "data": {
        "name": "data-cf485f565d7db0907faa9f423578f1a0"
       },
       "datasets": {
        "data-cf485f565d7db0907faa9f423578f1a0": [
         {
          "cumsum": 9,
          "value": 9,
          "variable": "workshop_hours",
          "workshop_category": "Public",
          "workshop_start": "2017-08-20T00:00:00"
         },
         {
          "cumsum": 0,
          "value": 0,
          "variable": "workshop_hours",
          "workshop_category": "Corporate",
          "workshop_start": "2017-08-27T00:00:00"
         },
         {
          "cumsum": 0,
          "value": 0,
          "variable": "workshop_hours",
          "workshop_category": "Corporate",
          "workshop_start": "2017-09-03T00:00:00"
         },
         {
          "cumsum": 0,
          "value": 0,
          "variable": "workshop_hours",
          "workshop_category": "Corporate",
          "workshop_start": "2017-09-10T00:00:00"
         },
         {
          "cumsum": 18,
          "value": 9,
          "variable": "workshop_hours",
          "workshop_category": "Public",
          "workshop_start": "2017-09-17T00:00:00"
         },
         {
          "cumsum": 0,
          "value": 0,
          "variable": "workshop_hours",
          "workshop_category": "Corporate",
          "workshop_start": "2017-09-24T00:00:00"
         },
         {
          "cumsum": 27,
          "value": 27,
          "variable": "workshop_hours",
          "workshop_category": "Corporate",
          "workshop_start": "2017-10-01T00:00:00"
         },
         {
          "cumsum": 27,
          "value": 0,
          "variable": "workshop_hours",
          "workshop_category": "Corporate",
          "workshop_start": "2017-10-08T00:00:00"
         },
         {
          "cumsum": 27,
          "value": 9,
          "variable": "workshop_hours",
          "workshop_category": "Public",
          "workshop_start": "2017-10-15T00:00:00"
         },
         {
          "cumsum": 45,
          "value": 18,
          "variable": "workshop_hours",
          "workshop_category": "Corporate",
          "workshop_start": "2017-10-22T00:00:00"
         },
         {
          "cumsum": 36,
          "value": 9,
          "variable": "workshop_hours",
          "workshop_category": "Public",
          "workshop_start": "2017-10-29T00:00:00"
         },
         {
          "cumsum": 45,
          "value": 0,
          "variable": "workshop_hours",
          "workshop_category": "Corporate",
          "workshop_start": "2017-11-05T00:00:00"
         },
         {
          "cumsum": 63,
          "value": 18,
          "variable": "workshop_hours",
          "workshop_category": "Corporate",
          "workshop_start": "2017-11-12T00:00:00"
         },
         {
          "cumsum": 84,
          "value": 21,
          "variable": "workshop_hours",
          "workshop_category": "Corporate",
          "workshop_start": "2017-11-19T00:00:00"
         },
         {
          "cumsum": 45,
          "value": 9,
          "variable": "workshop_hours",
          "workshop_category": "Public",
          "workshop_start": "2017-11-26T00:00:00"
         },
         {
          "cumsum": 84,
          "value": 0,
          "variable": "workshop_hours",
          "workshop_category": "Corporate",
          "workshop_start": "2017-12-03T00:00:00"
         },
         {
          "cumsum": 84,
          "value": 0,
          "variable": "workshop_hours",
          "workshop_category": "Corporate",
          "workshop_start": "2017-12-10T00:00:00"
         },
         {
          "cumsum": 84,
          "value": 0,
          "variable": "workshop_hours",
          "workshop_category": "Corporate",
          "workshop_start": "2017-12-17T00:00:00"
         },
         {
          "cumsum": 102,
          "value": 18,
          "variable": "workshop_hours",
          "workshop_category": "Corporate",
          "workshop_start": "2017-12-24T00:00:00"
         },
         {
          "cumsum": 102,
          "value": 0,
          "variable": "workshop_hours",
          "workshop_category": "Corporate",
          "workshop_start": "2017-12-31T00:00:00"
         },
         {
          "cumsum": 102,
          "value": 0,
          "variable": "workshop_hours",
          "workshop_category": "Corporate",
          "workshop_start": "2018-01-07T00:00:00"
         },
         {
          "cumsum": 102,
          "value": 0,
          "variable": "workshop_hours",
          "workshop_category": "Corporate",
          "workshop_start": "2018-01-14T00:00:00"
         },
         {
          "cumsum": 117,
          "value": 15,
          "variable": "workshop_hours",
          "workshop_category": "Corporate",
          "workshop_start": "2018-01-21T00:00:00"
         },
         {
          "cumsum": 117,
          "value": 0,
          "variable": "workshop_hours",
          "workshop_category": "Corporate",
          "workshop_start": "2018-01-28T00:00:00"
         },
         {
          "cumsum": 126,
          "value": 9,
          "variable": "workshop_hours",
          "workshop_category": "Corporate",
          "workshop_start": "2018-02-04T00:00:00"
         },
         {
          "cumsum": 142,
          "value": 16,
          "variable": "workshop_hours",
          "workshop_category": "Corporate",
          "workshop_start": "2018-02-11T00:00:00"
         },
         {
          "cumsum": 142,
          "value": 0,
          "variable": "workshop_hours",
          "workshop_category": "Corporate",
          "workshop_start": "2018-02-18T00:00:00"
         },
         {
          "cumsum": 51,
          "value": 6,
          "variable": "workshop_hours",
          "workshop_category": "Public",
          "workshop_start": "2018-02-25T00:00:00"
         },
         {
          "cumsum": 142,
          "value": 0,
          "variable": "workshop_hours",
          "workshop_category": "Corporate",
          "workshop_start": "2018-03-04T00:00:00"
         },
         {
          "cumsum": 142,
          "value": 0,
          "variable": "workshop_hours",
          "workshop_category": "Corporate",
          "workshop_start": "2018-03-11T00:00:00"
         },
         {
          "cumsum": 160,
          "value": 18,
          "variable": "workshop_hours",
          "workshop_category": "Corporate",
          "workshop_start": "2018-03-18T00:00:00"
         },
         {
          "cumsum": 160,
          "value": 0,
          "variable": "workshop_hours",
          "workshop_category": "Corporate",
          "workshop_start": "2018-03-25T00:00:00"
         },
         {
          "cumsum": 169,
          "value": 9,
          "variable": "workshop_hours",
          "workshop_category": "Corporate",
          "workshop_start": "2018-04-01T00:00:00"
         },
         {
          "cumsum": 169,
          "value": 0,
          "variable": "workshop_hours",
          "workshop_category": "Corporate",
          "workshop_start": "2018-04-08T00:00:00"
         },
         {
          "cumsum": 178,
          "value": 9,
          "variable": "workshop_hours",
          "workshop_category": "Corporate",
          "workshop_start": "2018-04-15T00:00:00"
         },
         {
          "cumsum": 178,
          "value": 0,
          "variable": "workshop_hours",
          "workshop_category": "Corporate",
          "workshop_start": "2018-04-22T00:00:00"
         },
         {
          "cumsum": 187,
          "value": 9,
          "variable": "workshop_hours",
          "workshop_category": "Corporate",
          "workshop_start": "2018-04-29T00:00:00"
         },
         {
          "cumsum": 203,
          "value": 16,
          "variable": "workshop_hours",
          "workshop_category": "Corporate",
          "workshop_start": "2018-05-06T00:00:00"
         },
         {
          "cumsum": 212,
          "value": 9,
          "variable": "workshop_hours",
          "workshop_category": "Corporate",
          "workshop_start": "2018-05-13T00:00:00"
         },
         {
          "cumsum": 80,
          "value": 29,
          "variable": "workshop_hours",
          "workshop_category": "Public",
          "workshop_start": "2018-05-20T00:00:00"
         },
         {
          "cumsum": 96,
          "value": 16,
          "variable": "workshop_hours",
          "workshop_category": "Public",
          "workshop_start": "2018-05-27T00:00:00"
         },
         {
          "cumsum": 212,
          "value": 0,
          "variable": "workshop_hours",
          "workshop_category": "Corporate",
          "workshop_start": "2018-06-03T00:00:00"
         },
         {
          "cumsum": 221,
          "value": 9,
          "variable": "workshop_hours",
          "workshop_category": "Corporate",
          "workshop_start": "2018-06-10T00:00:00"
         },
         {
          "cumsum": 221,
          "value": 0,
          "variable": "workshop_hours",
          "workshop_category": "Corporate",
          "workshop_start": "2018-06-17T00:00:00"
         },
         {
          "cumsum": 221,
          "value": 0,
          "variable": "workshop_hours",
          "workshop_category": "Corporate",
          "workshop_start": "2018-06-24T00:00:00"
         },
         {
          "cumsum": 257,
          "value": 36,
          "variable": "workshop_hours",
          "workshop_category": "Corporate",
          "workshop_start": "2018-07-01T00:00:00"
         },
         {
          "cumsum": 305,
          "value": 48,
          "variable": "workshop_hours",
          "workshop_category": "Corporate",
          "workshop_start": "2018-07-08T00:00:00"
         },
         {
          "cumsum": 325,
          "value": 20,
          "variable": "workshop_hours",
          "workshop_category": "Corporate",
          "workshop_start": "2018-07-15T00:00:00"
         },
         {
          "cumsum": 325,
          "value": 0,
          "variable": "workshop_hours",
          "workshop_category": "Corporate",
          "workshop_start": "2018-07-22T00:00:00"
         },
         {
          "cumsum": 325,
          "value": 0,
          "variable": "workshop_hours",
          "workshop_category": "Corporate",
          "workshop_start": "2018-07-29T00:00:00"
         },
         {
          "cumsum": 334,
          "value": 9,
          "variable": "workshop_hours",
          "workshop_category": "Corporate",
          "workshop_start": "2018-08-05T00:00:00"
         },
         {
          "cumsum": 334,
          "value": 0,
          "variable": "workshop_hours",
          "workshop_category": "Corporate",
          "workshop_start": "2018-08-12T00:00:00"
         },
         {
          "cumsum": 352,
          "value": 18,
          "variable": "workshop_hours",
          "workshop_category": "Corporate",
          "workshop_start": "2018-08-19T00:00:00"
         },
         {
          "cumsum": 21,
          "value": 21,
          "variable": "class_size",
          "workshop_category": "Public",
          "workshop_start": "2017-08-20T00:00:00"
         },
         {
          "cumsum": 0,
          "value": 0,
          "variable": "class_size",
          "workshop_category": "Corporate",
          "workshop_start": "2017-08-27T00:00:00"
         },
         {
          "cumsum": 0,
          "value": 0,
          "variable": "class_size",
          "workshop_category": "Corporate",
          "workshop_start": "2017-09-03T00:00:00"
         },
         {
          "cumsum": 0,
          "value": 0,
          "variable": "class_size",
          "workshop_category": "Corporate",
          "workshop_start": "2017-09-10T00:00:00"
         },
         {
          "cumsum": 48,
          "value": 27,
          "variable": "class_size",
          "workshop_category": "Public",
          "workshop_start": "2017-09-17T00:00:00"
         },
         {
          "cumsum": 0,
          "value": 0,
          "variable": "class_size",
          "workshop_category": "Corporate",
          "workshop_start": "2017-09-24T00:00:00"
         },
         {
          "cumsum": 40,
          "value": 40,
          "variable": "class_size",
          "workshop_category": "Corporate",
          "workshop_start": "2017-10-01T00:00:00"
         },
         {
          "cumsum": 40,
          "value": 0,
          "variable": "class_size",
          "workshop_category": "Corporate",
          "workshop_start": "2017-10-08T00:00:00"
         },
         {
          "cumsum": 60,
          "value": 12,
          "variable": "class_size",
          "workshop_category": "Public",
          "workshop_start": "2017-10-15T00:00:00"
         },
         {
          "cumsum": 45,
          "value": 5,
          "variable": "class_size",
          "workshop_category": "Corporate",
          "workshop_start": "2017-10-22T00:00:00"
         },
         {
          "cumsum": 89,
          "value": 29,
          "variable": "class_size",
          "workshop_category": "Public",
          "workshop_start": "2017-10-29T00:00:00"
         },
         {
          "cumsum": 45,
          "value": 0,
          "variable": "class_size",
          "workshop_category": "Corporate",
          "workshop_start": "2017-11-05T00:00:00"
         },
         {
          "cumsum": 68,
          "value": 23,
          "variable": "class_size",
          "workshop_category": "Corporate",
          "workshop_start": "2017-11-12T00:00:00"
         },
         {
          "cumsum": 73,
          "value": 5,
          "variable": "class_size",
          "workshop_category": "Corporate",
          "workshop_start": "2017-11-19T00:00:00"
         },
         {
          "cumsum": 105,
          "value": 16,
          "variable": "class_size",
          "workshop_category": "Public",
          "workshop_start": "2017-11-26T00:00:00"
         },
         {
          "cumsum": 73,
          "value": 0,
          "variable": "class_size",
          "workshop_category": "Corporate",
          "workshop_start": "2017-12-03T00:00:00"
         },
         {
          "cumsum": 73,
          "value": 0,
          "variable": "class_size",
          "workshop_category": "Corporate",
          "workshop_start": "2017-12-10T00:00:00"
         },
         {
          "cumsum": 73,
          "value": 0,
          "variable": "class_size",
          "workshop_category": "Corporate",
          "workshop_start": "2017-12-17T00:00:00"
         },
         {
          "cumsum": 89,
          "value": 16,
          "variable": "class_size",
          "workshop_category": "Corporate",
          "workshop_start": "2017-12-24T00:00:00"
         },
         {
          "cumsum": 89,
          "value": 0,
          "variable": "class_size",
          "workshop_category": "Corporate",
          "workshop_start": "2017-12-31T00:00:00"
         },
         {
          "cumsum": 89,
          "value": 0,
          "variable": "class_size",
          "workshop_category": "Corporate",
          "workshop_start": "2018-01-07T00:00:00"
         },
         {
          "cumsum": 89,
          "value": 0,
          "variable": "class_size",
          "workshop_category": "Corporate",
          "workshop_start": "2018-01-14T00:00:00"
         },
         {
          "cumsum": 137,
          "value": 48,
          "variable": "class_size",
          "workshop_category": "Corporate",
          "workshop_start": "2018-01-21T00:00:00"
         },
         {
          "cumsum": 137,
          "value": 0,
          "variable": "class_size",
          "workshop_category": "Corporate",
          "workshop_start": "2018-01-28T00:00:00"
         },
         {
          "cumsum": 156,
          "value": 19,
          "variable": "class_size",
          "workshop_category": "Corporate",
          "workshop_start": "2018-02-04T00:00:00"
         },
         {
          "cumsum": 166,
          "value": 10,
          "variable": "class_size",
          "workshop_category": "Corporate",
          "workshop_start": "2018-02-11T00:00:00"
         },
         {
          "cumsum": 166,
          "value": 0,
          "variable": "class_size",
          "workshop_category": "Corporate",
          "workshop_start": "2018-02-18T00:00:00"
         },
         {
          "cumsum": 128,
          "value": 23,
          "variable": "class_size",
          "workshop_category": "Public",
          "workshop_start": "2018-02-25T00:00:00"
         },
         {
          "cumsum": 166,
          "value": 0,
          "variable": "class_size",
          "workshop_category": "Corporate",
          "workshop_start": "2018-03-04T00:00:00"
         },
         {
          "cumsum": 166,
          "value": 0,
          "variable": "class_size",
          "workshop_category": "Corporate",
          "workshop_start": "2018-03-11T00:00:00"
         },
         {
          "cumsum": 206,
          "value": 40,
          "variable": "class_size",
          "workshop_category": "Corporate",
          "workshop_start": "2018-03-18T00:00:00"
         },
         {
          "cumsum": 206,
          "value": 0,
          "variable": "class_size",
          "workshop_category": "Corporate",
          "workshop_start": "2018-03-25T00:00:00"
         },
         {
          "cumsum": 236,
          "value": 30,
          "variable": "class_size",
          "workshop_category": "Corporate",
          "workshop_start": "2018-04-01T00:00:00"
         },
         {
          "cumsum": 236,
          "value": 0,
          "variable": "class_size",
          "workshop_category": "Corporate",
          "workshop_start": "2018-04-08T00:00:00"
         },
         {
          "cumsum": 264,
          "value": 28,
          "variable": "class_size",
          "workshop_category": "Corporate",
          "workshop_start": "2018-04-15T00:00:00"
         },
         {
          "cumsum": 264,
          "value": 0,
          "variable": "class_size",
          "workshop_category": "Corporate",
          "workshop_start": "2018-04-22T00:00:00"
         },
         {
          "cumsum": 292,
          "value": 28,
          "variable": "class_size",
          "workshop_category": "Corporate",
          "workshop_start": "2018-04-29T00:00:00"
         },
         {
          "cumsum": 304,
          "value": 12,
          "variable": "class_size",
          "workshop_category": "Corporate",
          "workshop_start": "2018-05-06T00:00:00"
         },
         {
          "cumsum": 333,
          "value": 29,
          "variable": "class_size",
          "workshop_category": "Corporate",
          "workshop_start": "2018-05-13T00:00:00"
         },
         {
          "cumsum": 148,
          "value": 20,
          "variable": "class_size",
          "workshop_category": "Public",
          "workshop_start": "2018-05-20T00:00:00"
         },
         {
          "cumsum": 211,
          "value": 63,
          "variable": "class_size",
          "workshop_category": "Public",
          "workshop_start": "2018-05-27T00:00:00"
         },
         {
          "cumsum": 333,
          "value": 0,
          "variable": "class_size",
          "workshop_category": "Corporate",
          "workshop_start": "2018-06-03T00:00:00"
         },
         {
          "cumsum": 359,
          "value": 26,
          "variable": "class_size",
          "workshop_category": "Corporate",
          "workshop_start": "2018-06-10T00:00:00"
         },
         {
          "cumsum": 359,
          "value": 0,
          "variable": "class_size",
          "workshop_category": "Corporate",
          "workshop_start": "2018-06-17T00:00:00"
         },
         {
          "cumsum": 359,
          "value": 0,
          "variable": "class_size",
          "workshop_category": "Corporate",
          "workshop_start": "2018-06-24T00:00:00"
         },
         {
          "cumsum": 430,
          "value": 71,
          "variable": "class_size",
          "workshop_category": "Corporate",
          "workshop_start": "2018-07-01T00:00:00"
         },
         {
          "cumsum": 492,
          "value": 62,
          "variable": "class_size",
          "workshop_category": "Corporate",
          "workshop_start": "2018-07-08T00:00:00"
         },
         {
          "cumsum": 507,
          "value": 15,
          "variable": "class_size",
          "workshop_category": "Corporate",
          "workshop_start": "2018-07-15T00:00:00"
         },
         {
          "cumsum": 507,
          "value": 0,
          "variable": "class_size",
          "workshop_category": "Corporate",
          "workshop_start": "2018-07-22T00:00:00"
         },
         {
          "cumsum": 507,
          "value": 0,
          "variable": "class_size",
          "workshop_category": "Corporate",
          "workshop_start": "2018-07-29T00:00:00"
         },
         {
          "cumsum": 530,
          "value": 23,
          "variable": "class_size",
          "workshop_category": "Corporate",
          "workshop_start": "2018-08-05T00:00:00"
         },
         {
          "cumsum": 530,
          "value": 0,
          "variable": "class_size",
          "workshop_category": "Corporate",
          "workshop_start": "2018-08-12T00:00:00"
         },
         {
          "cumsum": 569,
          "value": 39,
          "variable": "class_size",
          "workshop_category": "Corporate",
          "workshop_start": "2018-08-19T00:00:00"
         }
        ]
       },
       "encoding": {
        "color": {
         "field": "variable",
         "type": "nominal"
        },
        "column": {
         "field": "workshop_category",
         "type": "nominal"
        },
        "x": {
         "field": "workshop_start",
         "type": "temporal"
        },
        "y": {
         "aggregate": "sum",
         "field": "cumsum",
         "type": "quantitative"
        }
       },
       "mark": "line",
       "width": 250
      },
      "image/png": "[encoded data removed]",
      "text/plain": [
       "<VegaLite 2 object>\n",
       "\n",
       "If you see this message, it means the renderer has not been properly enabled\n",
       "for the frontend that you are using. For more information, see\n",
       "https://altair-viz.github.io/user_guide/troubleshooting.html\n"
      ]
     },
     "execution_count": 221,
     "metadata": {},
     "output_type": "execute_result"
    }
   ],
   "source": [
    "alt.Chart(melted).mark_line().encode(\n",
    "    column='workshop_category',\n",
    "    x=alt.X(\"workshop_start\"),\n",
    "    y=alt.Y(\"sum(cumsum)\"),\n",
    "    color=alt.Color(\"variable\")\n",
    ").properties(\n",
    "    width=250\n",
    ")"
   ]
  },
  {
   "cell_type": "code",
   "execution_count": 195,
   "metadata": {},
   "outputs": [
    {
     "data": {
      "application/vnd.vegalite.v2+json": {
       "$schema": "https://vega.github.io/schema/vega-lite/v2.6.0.json",
       "config": {
        "view": {
         "height": 300,
         "width": 400
        }
       },
       "data": {
        "format": {
         "type": "csv"
        },
        "url": "https://vega.github.io/vega-datasets/data/github.csv"
       },
       "encoding": {
        "size": {
         "aggregate": "sum",
         "field": "count",
         "type": "quantitative"
        },
        "x": {
         "field": "time",
         "timeUnit": "hours",
         "type": "ordinal"
        },
        "y": {
         "field": "time",
         "timeUnit": "day",
         "type": "ordinal"
        }
       },
       "mark": "circle"
      },
      "image/png": "[encoded data removed]",
      "text/plain": [
       "<VegaLite 2 object>\n",
       "\n",
       "If you see this message, it means the renderer has not been properly enabled\n",
       "for the frontend that you are using. For more information, see\n",
       "https://altair-viz.github.io/user_guide/troubleshooting.html\n"
      ]
     },
     "execution_count": 195,
     "metadata": {},
     "output_type": "execute_result"
    }
   ],
   "source": [
    "source = data.github.url\n",
    "\n",
    "alt.Chart(source).mark_circle().encode(\n",
    "    x='hours(time):O',\n",
    "    y='day(time):O',\n",
    "    size='sum(count):Q'\n",
    ")"
   ]
  },
  {
   "cell_type": "code",
   "execution_count": 198,
   "metadata": {},
   "outputs": [
    {
     "data": {
      "text/html": [
       "<div>\n",
       "<style scoped>\n",
       "    .dataframe tbody tr th:only-of-type {\n",
       "        vertical-align: middle;\n",
       "    }\n",
       "\n",
       "    .dataframe tbody tr th {\n",
       "        vertical-align: top;\n",
       "    }\n",
       "\n",
       "    .dataframe thead th {\n",
       "        text-align: right;\n",
       "    }\n",
       "</style>\n",
       "<table border=\"1\" class=\"dataframe\">\n",
       "  <thead>\n",
       "    <tr style=\"text-align: right;\">\n",
       "      <th></th>\n",
       "      <th>time</th>\n",
       "      <th>count</th>\n",
       "    </tr>\n",
       "  </thead>\n",
       "  <tbody>\n",
       "    <tr>\n",
       "      <th>0</th>\n",
       "      <td>2015/01/01 01:00:00</td>\n",
       "      <td>2</td>\n",
       "    </tr>\n",
       "    <tr>\n",
       "      <th>1</th>\n",
       "      <td>2015/01/01 04:00:00</td>\n",
       "      <td>3</td>\n",
       "    </tr>\n",
       "    <tr>\n",
       "      <th>2</th>\n",
       "      <td>2015/01/01 05:00:00</td>\n",
       "      <td>1</td>\n",
       "    </tr>\n",
       "    <tr>\n",
       "      <th>3</th>\n",
       "      <td>2015/01/01 08:00:00</td>\n",
       "      <td>1</td>\n",
       "    </tr>\n",
       "    <tr>\n",
       "      <th>4</th>\n",
       "      <td>2015/01/01 09:00:00</td>\n",
       "      <td>3</td>\n",
       "    </tr>\n",
       "  </tbody>\n",
       "</table>\n",
       "</div>"
      ],
      "text/plain": [
       "                  time  count\n",
       "0  2015/01/01 01:00:00      2\n",
       "1  2015/01/01 04:00:00      3\n",
       "2  2015/01/01 05:00:00      1\n",
       "3  2015/01/01 08:00:00      1\n",
       "4  2015/01/01 09:00:00      3"
      ]
     },
     "execution_count": 198,
     "metadata": {},
     "output_type": "execute_result"
    }
   ],
   "source": [
    "github = pd.read_csv(source)\n",
    "github.head()"
   ]
  },
  {
   "cell_type": "code",
   "execution_count": 247,
   "metadata": {},
   "outputs": [
    {
     "data": {
      "text/html": [
       "<div>\n",
       "<style scoped>\n",
       "    .dataframe tbody tr th:only-of-type {\n",
       "        vertical-align: middle;\n",
       "    }\n",
       "\n",
       "    .dataframe tbody tr th {\n",
       "        vertical-align: top;\n",
       "    }\n",
       "\n",
       "    .dataframe thead th {\n",
       "        text-align: right;\n",
       "    }\n",
       "</style>\n",
       "<table border=\"1\" class=\"dataframe\">\n",
       "  <thead>\n",
       "    <tr style=\"text-align: right;\">\n",
       "      <th></th>\n",
       "      <th>workshop_name</th>\n",
       "      <th>workshop_category</th>\n",
       "      <th>workshop_instructor</th>\n",
       "      <th>workshop_start</th>\n",
       "      <th>workshop_hours</th>\n",
       "      <th>workshop_venue</th>\n",
       "      <th>class_size</th>\n",
       "      <th>mnth_yr</th>\n",
       "      <th>contrib</th>\n",
       "    </tr>\n",
       "    <tr>\n",
       "      <th>id</th>\n",
       "      <th></th>\n",
       "      <th></th>\n",
       "      <th></th>\n",
       "      <th></th>\n",
       "      <th></th>\n",
       "      <th></th>\n",
       "      <th></th>\n",
       "      <th></th>\n",
       "      <th></th>\n",
       "    </tr>\n",
       "  </thead>\n",
       "  <tbody>\n",
       "    <tr>\n",
       "      <th>1</th>\n",
       "      <td>Data Science Fundamentals ML Aug 17</td>\n",
       "      <td>Public</td>\n",
       "      <td>1</td>\n",
       "      <td>2017-08-15 18:00:00</td>\n",
       "      <td>9</td>\n",
       "      <td>Base Cowork Lounge</td>\n",
       "      <td>21</td>\n",
       "      <td>2017-08</td>\n",
       "      <td>189</td>\n",
       "    </tr>\n",
       "    <tr>\n",
       "      <th>2</th>\n",
       "      <td>Data Science Fundamentals ML Sep 17</td>\n",
       "      <td>Public</td>\n",
       "      <td>1</td>\n",
       "      <td>2017-09-27 18:00:00</td>\n",
       "      <td>9</td>\n",
       "      <td>Base Cowork Lounge</td>\n",
       "      <td>30</td>\n",
       "      <td>2017-09</td>\n",
       "      <td>270</td>\n",
       "    </tr>\n",
       "    <tr>\n",
       "      <th>3</th>\n",
       "      <td>Data Science Fundamentals DV Oct 17</td>\n",
       "      <td>Public</td>\n",
       "      <td>1</td>\n",
       "      <td>2017-10-10 18:00:00</td>\n",
       "      <td>9</td>\n",
       "      <td>Block 71</td>\n",
       "      <td>12</td>\n",
       "      <td>2017-10</td>\n",
       "      <td>108</td>\n",
       "    </tr>\n",
       "    <tr>\n",
       "      <th>4</th>\n",
       "      <td>Data Science Fundamentals ML Oct 17</td>\n",
       "      <td>Public</td>\n",
       "      <td>1</td>\n",
       "      <td>2017-10-23 18:00:00</td>\n",
       "      <td>9</td>\n",
       "      <td>Block 71</td>\n",
       "      <td>29</td>\n",
       "      <td>2017-10</td>\n",
       "      <td>261</td>\n",
       "    </tr>\n",
       "    <tr>\n",
       "      <th>5</th>\n",
       "      <td>PT SPIL 2017</td>\n",
       "      <td>Corporate</td>\n",
       "      <td>1</td>\n",
       "      <td>2017-10-17 10:00:00</td>\n",
       "      <td>18</td>\n",
       "      <td>PT. SPIL, Surabaya</td>\n",
       "      <td>5</td>\n",
       "      <td>2017-10</td>\n",
       "      <td>90</td>\n",
       "    </tr>\n",
       "    <tr>\n",
       "      <th>6</th>\n",
       "      <td>Bank Sinarmas 2017</td>\n",
       "      <td>Corporate</td>\n",
       "      <td>4</td>\n",
       "      <td>2017-12-18 13:00:00</td>\n",
       "      <td>18</td>\n",
       "      <td>Sinarmas Roxy Learning Center</td>\n",
       "      <td>16</td>\n",
       "      <td>2017-12</td>\n",
       "      <td>288</td>\n",
       "    </tr>\n",
       "    <tr>\n",
       "      <th>7</th>\n",
       "      <td>PT KLK 2017</td>\n",
       "      <td>Corporate</td>\n",
       "      <td>6</td>\n",
       "      <td>2017-11-13 13:00:00</td>\n",
       "      <td>21</td>\n",
       "      <td>KLK Agriservindo Sunter</td>\n",
       "      <td>5</td>\n",
       "      <td>2017-11</td>\n",
       "      <td>105</td>\n",
       "    </tr>\n",
       "  </tbody>\n",
       "</table>\n",
       "</div>"
      ],
      "text/plain": [
       "                          workshop_name workshop_category  \\\n",
       "id                                                          \n",
       "1   Data Science Fundamentals ML Aug 17            Public   \n",
       "2   Data Science Fundamentals ML Sep 17            Public   \n",
       "3   Data Science Fundamentals DV Oct 17            Public   \n",
       "4   Data Science Fundamentals ML Oct 17            Public   \n",
       "5                          PT SPIL 2017         Corporate   \n",
       "6                    Bank Sinarmas 2017         Corporate   \n",
       "7                           PT KLK 2017         Corporate   \n",
       "\n",
       "    workshop_instructor      workshop_start  workshop_hours  \\\n",
       "id                                                            \n",
       "1                     1 2017-08-15 18:00:00               9   \n",
       "2                     1 2017-09-27 18:00:00               9   \n",
       "3                     1 2017-10-10 18:00:00               9   \n",
       "4                     1 2017-10-23 18:00:00               9   \n",
       "5                     1 2017-10-17 10:00:00              18   \n",
       "6                     4 2017-12-18 13:00:00              18   \n",
       "7                     6 2017-11-13 13:00:00              21   \n",
       "\n",
       "                   workshop_venue  class_size  mnth_yr  contrib  \n",
       "id                                                               \n",
       "1              Base Cowork Lounge          21  2017-08      189  \n",
       "2              Base Cowork Lounge          30  2017-09      270  \n",
       "3                        Block 71          12  2017-10      108  \n",
       "4                        Block 71          29  2017-10      261  \n",
       "5              PT. SPIL, Surabaya           5  2017-10       90  \n",
       "6   Sinarmas Roxy Learning Center          16  2017-12      288  \n",
       "7         KLK Agriservindo Sunter           5  2017-11      105  "
      ]
     },
     "execution_count": 247,
     "metadata": {},
     "output_type": "execute_result"
    }
   ],
   "source": [
    "df['mnth_yr'] = df['mnth_yr'].astype(str)\n",
    "df['workshop_category'] = df['workshop_category'].apply(lambda x:x if x == 'Corporate' else 'Public' )\n",
    "df['contrib'] = df['workshop_hours'] * df['class_size']\n",
    "df.head(7)"
   ]
  },
  {
   "cell_type": "code",
   "execution_count": 248,
   "metadata": {},
   "outputs": [
    {
     "data": {
      "application/vnd.vegalite.v2+json": {
       "$schema": "https://vega.github.io/schema/vega-lite/v2.6.0.json",
       "config": {
        "view": {
         "height": 300,
         "width": 400
        }
       },
       "data": {
        "name": "data-27d7cc41598a9c0eebc578faf0c8618f"
       },
       "datasets": {
        "data-27d7cc41598a9c0eebc578faf0c8618f": [
         {
          "class_size": 21,
          "contrib": 189,
          "mnth_yr": "2017-08",
          "workshop_category": "Public",
          "workshop_hours": 9,
          "workshop_instructor": 1,
          "workshop_name": "Data Science Fundamentals ML Aug 17",
          "workshop_start": "2017-08-15T18:00:00",
          "workshop_venue": "Base Cowork Lounge"
         },
         {
          "class_size": 30,
          "contrib": 270,
          "mnth_yr": "2017-09",
          "workshop_category": "Public",
          "workshop_hours": 9,
          "workshop_instructor": 1,
          "workshop_name": "Data Science Fundamentals ML Sep 17",
          "workshop_start": "2017-09-27T18:00:00",
          "workshop_venue": "Base Cowork Lounge"
         },
         {
          "class_size": 12,
          "contrib": 108,
          "mnth_yr": "2017-10",
          "workshop_category": "Public",
          "workshop_hours": 9,
          "workshop_instructor": 1,
          "workshop_name": "Data Science Fundamentals DV Oct 17",
          "workshop_start": "2017-10-10T18:00:00",
          "workshop_venue": "Block 71"
         },
         {
          "class_size": 29,
          "contrib": 261,
          "mnth_yr": "2017-10",
          "workshop_category": "Public",
          "workshop_hours": 9,
          "workshop_instructor": 1,
          "workshop_name": "Data Science Fundamentals ML Oct 17",
          "workshop_start": "2017-10-23T18:00:00",
          "workshop_venue": "Block 71"
         },
         {
          "class_size": 5,
          "contrib": 90,
          "mnth_yr": "2017-10",
          "workshop_category": "Corporate",
          "workshop_hours": 18,
          "workshop_instructor": 1,
          "workshop_name": "PT SPIL 2017",
          "workshop_start": "2017-10-17T10:00:00",
          "workshop_venue": "PT. SPIL, Surabaya"
         },
         {
          "class_size": 16,
          "contrib": 288,
          "mnth_yr": "2017-12",
          "workshop_category": "Corporate",
          "workshop_hours": 18,
          "workshop_instructor": 4,
          "workshop_name": "Bank Sinarmas 2017",
          "workshop_start": "2017-12-18T13:00:00",
          "workshop_venue": "Sinarmas Roxy Learning Center"
         },
         {
          "class_size": 5,
          "contrib": 105,
          "mnth_yr": "2017-11",
          "workshop_category": "Corporate",
          "workshop_hours": 21,
          "workshop_instructor": 6,
          "workshop_name": "PT KLK 2017",
          "workshop_start": "2017-11-13T13:00:00",
          "workshop_venue": "KLK Agriservindo Sunter"
         },
         {
          "class_size": 16,
          "contrib": 144,
          "mnth_yr": "2017-11",
          "workshop_category": "Public",
          "workshop_hours": 9,
          "workshop_instructor": 4,
          "workshop_name": "Data Science Fundamentals ML Nov 17",
          "workshop_start": "2017-11-21T18:00:00",
          "workshop_venue": "Block 71"
         },
         {
          "class_size": 16,
          "contrib": 144,
          "mnth_yr": "2017-11",
          "workshop_category": "Public",
          "workshop_hours": 9,
          "workshop_instructor": 6,
          "workshop_name": "Python Data Science Nov 17",
          "workshop_start": "2017-11-06T18:00:00",
          "workshop_venue": "Block 71"
         },
         {
          "class_size": 7,
          "contrib": 63,
          "mnth_yr": "2017-11",
          "workshop_category": "Public",
          "workshop_hours": 9,
          "workshop_instructor": 1,
          "workshop_name": "Data Science Intermediate Nov 17",
          "workshop_start": "2017-11-08T18:00:00",
          "workshop_venue": "Block 71"
         },
         {
          "class_size": 10,
          "contrib": 180,
          "mnth_yr": "2017-10",
          "workshop_category": "Corporate",
          "workshop_hours": 18,
          "workshop_instructor": 1,
          "workshop_name": "PT BPTN 2017",
          "workshop_start": "2017-10-01T09:00:00",
          "workshop_venue": "PT. BTPN Mega Kuningan"
         },
         {
          "class_size": 27,
          "contrib": 243,
          "mnth_yr": "2017-09",
          "workshop_category": "Public",
          "workshop_hours": 9,
          "workshop_instructor": 1,
          "workshop_name": "Data Science Fundamentals DV Sep 17",
          "workshop_start": "2017-09-13T18:00:00",
          "workshop_venue": "Block 71"
         },
         {
          "class_size": 10,
          "contrib": 160,
          "mnth_yr": "2018-02",
          "workshop_category": "Corporate",
          "workshop_hours": 16,
          "workshop_instructor": 1,
          "workshop_name": "Body Shop Feb 18",
          "workshop_start": "2018-02-08T10:00:00",
          "workshop_venue": "Block 71"
         },
         {
          "class_size": 10,
          "contrib": 110,
          "mnth_yr": "2018-05",
          "workshop_category": "Corporate",
          "workshop_hours": 11,
          "workshop_instructor": 1,
          "workshop_name": "Body Shop May 18",
          "workshop_start": "2018-05-17T10:00:00",
          "workshop_venue": "Block 71"
         },
         {
          "class_size": 24,
          "contrib": 216,
          "mnth_yr": "2018-01",
          "workshop_category": "Public",
          "workshop_hours": 9,
          "workshop_instructor": 1,
          "workshop_name": "Agon P4DS",
          "workshop_start": "2018-01-15T18:00:00",
          "workshop_venue": "Block 71"
         },
         {
          "class_size": 24,
          "contrib": 144,
          "mnth_yr": "2018-01",
          "workshop_category": "Public",
          "workshop_hours": 6,
          "workshop_instructor": 1,
          "workshop_name": "Agon PS",
          "workshop_start": "2018-01-18T18:00:00",
          "workshop_venue": "Block 71"
         },
         {
          "class_size": 19,
          "contrib": 171,
          "mnth_yr": "2018-01",
          "workshop_category": "Public",
          "workshop_hours": 9,
          "workshop_instructor": 1,
          "workshop_name": "Agon DV",
          "workshop_start": "2018-01-30T18:00:00",
          "workshop_venue": "Block 71"
         },
         {
          "class_size": 34,
          "contrib": 238,
          "mnth_yr": "2018-05",
          "workshop_category": "Public",
          "workshop_hours": 7,
          "workshop_instructor": 14,
          "workshop_name": "Azure ML for Non Programmers",
          "workshop_start": "2018-05-25T13:00:00",
          "workshop_venue": "Connext"
         },
         {
          "class_size": 29,
          "contrib": 261,
          "mnth_yr": "2018-05",
          "workshop_category": "Public",
          "workshop_hours": 9,
          "workshop_instructor": 1,
          "workshop_name": "Agon Bifrost TS",
          "workshop_start": "2018-05-22T18:00:00",
          "workshop_venue": "Connext"
         },
         {
          "class_size": 17,
          "contrib": 510,
          "mnth_yr": "2018-07",
          "workshop_category": "Corporate",
          "workshop_hours": 30,
          "workshop_instructor": 1,
          "workshop_name": "SKK Migas 2018",
          "workshop_start": "2018-07-02T09:00:00",
          "workshop_venue": "Wisma Mulia"
         },
         {
          "class_size": 15,
          "contrib": 300,
          "mnth_yr": "2018-07",
          "workshop_category": "Corporate",
          "workshop_hours": 20,
          "workshop_instructor": 1,
          "workshop_name": "Ralali 2018",
          "workshop_start": "2018-07-13T12:00:00",
          "workshop_venue": "Ruko The Prominence"
         },
         {
          "class_size": 30,
          "contrib": 270,
          "mnth_yr": "2018-07",
          "workshop_category": "Public",
          "workshop_hours": 9,
          "workshop_instructor": 1,
          "workshop_name": "Bifrost Chronos DV",
          "workshop_start": "2018-07-03T18:00:00",
          "workshop_venue": "Block 71"
         },
         {
          "class_size": 15,
          "contrib": 135,
          "mnth_yr": "2018-07",
          "workshop_category": "Public",
          "workshop_hours": 9,
          "workshop_instructor": 5,
          "workshop_name": "Bifrost Chronos DV",
          "workshop_start": "2018-07-03T18:00:00",
          "workshop_venue": "Connext"
         },
         {
          "class_size": 24,
          "contrib": 216,
          "mnth_yr": "2018-03",
          "workshop_category": "Public",
          "workshop_hours": 9,
          "workshop_instructor": 4,
          "workshop_name": "Bifrost P4DS",
          "workshop_start": "2018-03-12T18:00:00",
          "workshop_venue": "Connext"
         },
         {
          "class_size": 16,
          "contrib": 144,
          "mnth_yr": "2018-03",
          "workshop_category": "Public",
          "workshop_hours": 9,
          "workshop_instructor": 9,
          "workshop_name": "Bifrost PS",
          "workshop_start": "2018-03-15T18:00:00",
          "workshop_venue": "Connext"
         },
         {
          "class_size": 30,
          "contrib": 270,
          "mnth_yr": "2018-03",
          "workshop_category": "Public",
          "workshop_hours": 9,
          "workshop_instructor": 1,
          "workshop_name": "Agon Bifrost RM",
          "workshop_start": "2018-03-27T18:00:00",
          "workshop_venue": "Connext"
         },
         {
          "class_size": 28,
          "contrib": 252,
          "mnth_yr": "2018-04",
          "workshop_category": "Public",
          "workshop_hours": 9,
          "workshop_instructor": 1,
          "workshop_name": "Agon Bifrost C1",
          "workshop_start": "2018-04-10T18:00:00",
          "workshop_venue": "Connext"
         },
         {
          "class_size": 28,
          "contrib": 252,
          "mnth_yr": "2018-04",
          "workshop_category": "Public",
          "workshop_hours": 9,
          "workshop_instructor": 1,
          "workshop_name": "Agon Bifrost C2",
          "workshop_start": "2018-04-24T18:00:00",
          "workshop_venue": "Connext"
         },
         {
          "class_size": 29,
          "contrib": 261,
          "mnth_yr": "2018-05",
          "workshop_category": "Public",
          "workshop_hours": 9,
          "workshop_instructor": 1,
          "workshop_name": "Agon Bifrost UML",
          "workshop_start": "2018-05-07T18:00:00",
          "workshop_venue": "Connext"
         },
         {
          "class_size": 26,
          "contrib": 234,
          "mnth_yr": "2018-06",
          "workshop_category": "Public",
          "workshop_hours": 9,
          "workshop_instructor": 1,
          "workshop_name": "Agon Bifrost DL",
          "workshop_start": "2018-06-05T18:00:00",
          "workshop_venue": "Connext"
         },
         {
          "class_size": 23,
          "contrib": 138,
          "mnth_yr": "2018-02",
          "workshop_category": "Public",
          "workshop_hours": 6,
          "workshop_instructor": 2,
          "workshop_name": "Text Mining for Beginners",
          "workshop_start": "2018-02-22T18:00:00",
          "workshop_venue": "Block 71"
         },
         {
          "class_size": 23,
          "contrib": 207,
          "mnth_yr": "2018-06",
          "workshop_category": "Public",
          "workshop_hours": 9,
          "workshop_instructor": 1,
          "workshop_name": "Chronos P4DS",
          "workshop_start": "2018-06-25T18:00:00",
          "workshop_venue": "Block 71"
         },
         {
          "class_size": 17,
          "contrib": 153,
          "mnth_yr": "2018-06",
          "workshop_category": "Public",
          "workshop_hours": 9,
          "workshop_instructor": 5,
          "workshop_name": "Chronos P4DS",
          "workshop_start": "2018-06-25T18:00:00",
          "workshop_venue": "Block 71"
         },
         {
          "class_size": 10,
          "contrib": 180,
          "mnth_yr": "2018-05",
          "workshop_category": "Corporate",
          "workshop_hours": 18,
          "workshop_instructor": 9,
          "workshop_name": "BPR 2018",
          "workshop_start": "2018-05-17T18:00:00",
          "workshop_venue": "BPR, Bandung"
         },
         {
          "class_size": 12,
          "contrib": 192,
          "mnth_yr": "2018-05",
          "workshop_category": "Corporate",
          "workshop_hours": 16,
          "workshop_instructor": 1,
          "workshop_name": "PT Sun Life 2018 ",
          "workshop_start": "2018-05-02T18:00:00",
          "workshop_venue": "Menara Sun Life, Mega Kuningan"
         },
         {
          "class_size": 23,
          "contrib": 207,
          "mnth_yr": "2018-07",
          "workshop_category": "Public",
          "workshop_hours": 9,
          "workshop_instructor": 1,
          "workshop_name": "Deragon P4DS",
          "workshop_start": "2018-07-30T18:00:00",
          "workshop_venue": "Block 71"
         },
         {
          "class_size": 18,
          "contrib": 162,
          "mnth_yr": "2018-06",
          "workshop_category": "Public",
          "workshop_hours": 9,
          "workshop_instructor": 5,
          "workshop_name": "Chronos PS",
          "workshop_start": "2018-06-28T18:00:00",
          "workshop_venue": "Block 71"
         },
         {
          "class_size": 13,
          "contrib": 117,
          "mnth_yr": "2018-06",
          "workshop_category": "Public",
          "workshop_hours": 9,
          "workshop_instructor": 16,
          "workshop_name": "Chronos PS",
          "workshop_start": "2018-06-28T18:00:00",
          "workshop_venue": "Connext"
         },
         {
          "class_size": 23,
          "contrib": 207,
          "mnth_yr": "2018-08",
          "workshop_category": "Public",
          "workshop_hours": 9,
          "workshop_instructor": 1,
          "workshop_name": "Chronos Deragon C1",
          "workshop_start": "2018-08-14T18:00:00",
          "workshop_venue": "Block 71"
         },
         {
          "class_size": 16,
          "contrib": 144,
          "mnth_yr": "2018-08",
          "workshop_category": "Public",
          "workshop_hours": 9,
          "workshop_instructor": 9,
          "workshop_name": "Chronos Deragon C1",
          "workshop_start": "2018-08-14T18:00:00",
          "workshop_venue": "Aston Hotel"
         }
        ]
       },
       "encoding": {
        "column": {
         "field": "workshop_category",
         "type": "ordinal"
        },
        "size": {
         "aggregate": "sum",
         "field": "contrib",
         "type": "quantitative"
        },
        "x": {
         "field": "mnth_yr",
         "type": "ordinal"
        },
        "y": {
         "field": "workshop_instructor",
         "type": "ordinal"
        }
       },
       "mark": "circle"
      },
      "image/png": "[encoded data removed]",
      "text/plain": [
       "<VegaLite 2 object>\n",
       "\n",
       "If you see this message, it means the renderer has not been properly enabled\n",
       "for the frontend that you are using. For more information, see\n",
       "https://altair-viz.github.io/user_guide/troubleshooting.html\n"
      ]
     },
     "execution_count": 248,
     "metadata": {},
     "output_type": "execute_result"
    }
   ],
   "source": [
    "alt.Chart(df).mark_circle().encode(\n",
    "    x='mnth_yr:O',\n",
    "    y='workshop_instructor:O',\n",
    "    size='sum(contrib):Q',\n",
    "    column='workshop_category:O'\n",
    ")"
   ]
  },
  {
   "cell_type": "code",
   "execution_count": null,
   "metadata": {},
   "outputs": [],
   "source": []
  }
 ],
 "metadata": {
  "kernelspec": {
   "display_name": "Python [conda env:pedagogy]",
   "language": "python",
   "name": "conda-env-pedagogy-py"
  },
  "language_info": {
   "codemirror_mode": {
    "name": "ipython",
    "version": 3
   },
   "file_extension": ".py",
   "mimetype": "text/x-python",
   "name": "python",
   "nbconvert_exporter": "python",
   "pygments_lexer": "ipython3",
   "version": "3.6.6"
  }
 },
 "nbformat": 4,
 "nbformat_minor": 2
}
