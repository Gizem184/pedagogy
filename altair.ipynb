{
 "cells": [
  {
   "cell_type": "markdown",
   "metadata": {},
   "source": [
    "# `pd.read_sql_query`"
   ]
  },
  {
   "cell_type": "markdown",
   "metadata": {},
   "source": [
    "Confirming that we're using the right environment:"
   ]
  },
  {
   "cell_type": "code",
   "execution_count": 1,
   "metadata": {},
   "outputs": [
    {
     "name": "stdout",
     "output_type": "stream",
     "text": [
      "pedagogy\n"
     ]
    }
   ],
   "source": [
    "import os\n",
    "import pymysql\n",
    "import pandas as pd\n",
    "print(os.environ['CONDA_DEFAULT_ENV'])"
   ]
  },
  {
   "cell_type": "code",
   "execution_count": 2,
   "metadata": {},
   "outputs": [
    {
     "data": {
      "text/html": [
       "<div>\n",
       "<style scoped>\n",
       "    .dataframe tbody tr th:only-of-type {\n",
       "        vertical-align: middle;\n",
       "    }\n",
       "\n",
       "    .dataframe tbody tr th {\n",
       "        vertical-align: top;\n",
       "    }\n",
       "\n",
       "    .dataframe thead th {\n",
       "        text-align: right;\n",
       "    }\n",
       "</style>\n",
       "<table border=\"1\" class=\"dataframe\">\n",
       "  <thead>\n",
       "    <tr style=\"text-align: right;\">\n",
       "      <th></th>\n",
       "      <th>workshop_name</th>\n",
       "      <th>workshop_category</th>\n",
       "      <th>workshop_instructor</th>\n",
       "      <th>workshop_start</th>\n",
       "      <th>workshop_hours</th>\n",
       "      <th>workshop_venue</th>\n",
       "      <th>class_size</th>\n",
       "      <th>mnth_yr</th>\n",
       "    </tr>\n",
       "    <tr>\n",
       "      <th>id</th>\n",
       "      <th></th>\n",
       "      <th></th>\n",
       "      <th></th>\n",
       "      <th></th>\n",
       "      <th></th>\n",
       "      <th></th>\n",
       "      <th></th>\n",
       "      <th></th>\n",
       "    </tr>\n",
       "  </thead>\n",
       "  <tbody>\n",
       "    <tr>\n",
       "      <th>34</th>\n",
       "      <td>BPR 2018</td>\n",
       "      <td>Corporate</td>\n",
       "      <td>9</td>\n",
       "      <td>2018-05-17 18:00:00</td>\n",
       "      <td>18</td>\n",
       "      <td>BPR, Bandung</td>\n",
       "      <td>10</td>\n",
       "      <td>2018-05</td>\n",
       "    </tr>\n",
       "    <tr>\n",
       "      <th>35</th>\n",
       "      <td>PT Sun Life 2018</td>\n",
       "      <td>Academy</td>\n",
       "      <td>1</td>\n",
       "      <td>2018-05-02 18:00:00</td>\n",
       "      <td>16</td>\n",
       "      <td>Menara Sun Life, Mega Kuningan</td>\n",
       "      <td>12</td>\n",
       "      <td>2018-05</td>\n",
       "    </tr>\n",
       "    <tr>\n",
       "      <th>36</th>\n",
       "      <td>Deragon P4DS</td>\n",
       "      <td>Academy</td>\n",
       "      <td>1</td>\n",
       "      <td>2018-07-30 18:00:00</td>\n",
       "      <td>9</td>\n",
       "      <td>Block 71</td>\n",
       "      <td>23</td>\n",
       "      <td>2018-07</td>\n",
       "    </tr>\n",
       "    <tr>\n",
       "      <th>37</th>\n",
       "      <td>Chronos PS</td>\n",
       "      <td>Academy</td>\n",
       "      <td>5</td>\n",
       "      <td>2018-06-28 18:00:00</td>\n",
       "      <td>9</td>\n",
       "      <td>Block 71</td>\n",
       "      <td>18</td>\n",
       "      <td>2018-06</td>\n",
       "    </tr>\n",
       "    <tr>\n",
       "      <th>38</th>\n",
       "      <td>Chronos PS</td>\n",
       "      <td>Academy</td>\n",
       "      <td>16</td>\n",
       "      <td>2018-06-28 18:00:00</td>\n",
       "      <td>9</td>\n",
       "      <td>Connext</td>\n",
       "      <td>13</td>\n",
       "      <td>2018-06</td>\n",
       "    </tr>\n",
       "  </tbody>\n",
       "</table>\n",
       "</div>"
      ],
      "text/plain": [
       "        workshop_name workshop_category  workshop_instructor  \\\n",
       "id                                                             \n",
       "34           BPR 2018         Corporate                    9   \n",
       "35  PT Sun Life 2018            Academy                    1   \n",
       "36       Deragon P4DS           Academy                    1   \n",
       "37         Chronos PS           Academy                    5   \n",
       "38         Chronos PS           Academy                   16   \n",
       "\n",
       "        workshop_start  workshop_hours                  workshop_venue  \\\n",
       "id                                                                       \n",
       "34 2018-05-17 18:00:00              18                    BPR, Bandung   \n",
       "35 2018-05-02 18:00:00              16  Menara Sun Life, Mega Kuningan   \n",
       "36 2018-07-30 18:00:00               9                        Block 71   \n",
       "37 2018-06-28 18:00:00               9                        Block 71   \n",
       "38 2018-06-28 18:00:00               9                         Connext   \n",
       "\n",
       "    class_size mnth_yr  \n",
       "id                      \n",
       "34          10 2018-05  \n",
       "35          12 2018-05  \n",
       "36          23 2018-07  \n",
       "37          18 2018-06  \n",
       "38          13 2018-06  "
      ]
     },
     "execution_count": 2,
     "metadata": {},
     "output_type": "execute_result"
    }
   ],
   "source": [
    "host = os.getenv('MYSQL_HOST')\n",
    "user = os.getenv('MYSQL_USER')\n",
    "password = os.getenv('MYSQL_PASSWORD')\n",
    "database = os.getenv('MYSQL_DATABASE')\n",
    "\n",
    "conn = pymysql.connect(\n",
    "    host=host,\n",
    "    port=int(3306),\n",
    "    user=user,\n",
    "    passwd=password,\n",
    "    db=database)\n",
    "\n",
    "df = pd.read_sql_query(\"SELECT * FROM workshop\", conn, index_col='id')\n",
    "# convert datetime to '2018-09' month and year format\n",
    "df['mnth_yr'] = df.workshop_start.dt.to_period('M')\n",
    "df.tail(5)"
   ]
  },
  {
   "cell_type": "markdown",
   "metadata": {},
   "source": [
    "## Data Visualization"
   ]
  },
  {
   "cell_type": "code",
   "execution_count": 38,
   "metadata": {},
   "outputs": [
    {
     "data": {
      "text/html": [
       "<div>\n",
       "<style scoped>\n",
       "    .dataframe tbody tr th:only-of-type {\n",
       "        vertical-align: middle;\n",
       "    }\n",
       "\n",
       "    .dataframe tbody tr th {\n",
       "        vertical-align: top;\n",
       "    }\n",
       "\n",
       "    .dataframe thead th {\n",
       "        text-align: right;\n",
       "    }\n",
       "</style>\n",
       "<table border=\"1\" class=\"dataframe\">\n",
       "  <thead>\n",
       "    <tr style=\"text-align: right;\">\n",
       "      <th></th>\n",
       "      <th>this_user</th>\n",
       "      <th>class_size</th>\n",
       "    </tr>\n",
       "    <tr>\n",
       "      <th>id</th>\n",
       "      <th></th>\n",
       "      <th></th>\n",
       "    </tr>\n",
       "  </thead>\n",
       "  <tbody>\n",
       "    <tr>\n",
       "      <th>1</th>\n",
       "      <td>True</td>\n",
       "      <td>21</td>\n",
       "    </tr>\n",
       "    <tr>\n",
       "      <th>2</th>\n",
       "      <td>True</td>\n",
       "      <td>30</td>\n",
       "    </tr>\n",
       "    <tr>\n",
       "      <th>3</th>\n",
       "      <td>True</td>\n",
       "      <td>12</td>\n",
       "    </tr>\n",
       "    <tr>\n",
       "      <th>4</th>\n",
       "      <td>True</td>\n",
       "      <td>29</td>\n",
       "    </tr>\n",
       "    <tr>\n",
       "      <th>5</th>\n",
       "      <td>True</td>\n",
       "      <td>5</td>\n",
       "    </tr>\n",
       "  </tbody>\n",
       "</table>\n",
       "</div>"
      ],
      "text/plain": [
       "    this_user  class_size\n",
       "id                       \n",
       "1        True          21\n",
       "2        True          30\n",
       "3        True          12\n",
       "4        True          29\n",
       "5        True           5"
      ]
     },
     "execution_count": 38,
     "metadata": {},
     "output_type": "execute_result"
    }
   ],
   "source": [
    "df['this_user'] = df['workshop_instructor'] == 1\n",
    "dat = df.loc[:,['this_user', 'class_size']]\n",
    "dat.head()"
   ]
  },
  {
   "cell_type": "code",
   "execution_count": 39,
   "metadata": {},
   "outputs": [
    {
     "data": {
      "application/vnd.vegalite.v2+json": {
       "$schema": "https://vega.github.io/schema/vega-lite/v2.6.0.json",
       "config": {
        "view": {
         "height": 300,
         "width": 400
        }
       },
       "data": {
        "name": "data-047c23b5429e1728ec758d30e92f1c8b"
       },
       "datasets": {
        "data-047c23b5429e1728ec758d30e92f1c8b": [
         {
          "class_size": 21,
          "this_user": true
         },
         {
          "class_size": 30,
          "this_user": true
         },
         {
          "class_size": 12,
          "this_user": true
         },
         {
          "class_size": 29,
          "this_user": true
         },
         {
          "class_size": 5,
          "this_user": true
         },
         {
          "class_size": 16,
          "this_user": false
         },
         {
          "class_size": 5,
          "this_user": false
         },
         {
          "class_size": 16,
          "this_user": false
         },
         {
          "class_size": 16,
          "this_user": false
         },
         {
          "class_size": 7,
          "this_user": true
         },
         {
          "class_size": 10,
          "this_user": true
         },
         {
          "class_size": 27,
          "this_user": true
         },
         {
          "class_size": 10,
          "this_user": true
         },
         {
          "class_size": 10,
          "this_user": true
         },
         {
          "class_size": 24,
          "this_user": true
         },
         {
          "class_size": 24,
          "this_user": true
         },
         {
          "class_size": 19,
          "this_user": true
         },
         {
          "class_size": 34,
          "this_user": false
         },
         {
          "class_size": 29,
          "this_user": true
         },
         {
          "class_size": 17,
          "this_user": true
         },
         {
          "class_size": 15,
          "this_user": true
         },
         {
          "class_size": 30,
          "this_user": true
         },
         {
          "class_size": 15,
          "this_user": false
         },
         {
          "class_size": 24,
          "this_user": false
         },
         {
          "class_size": 16,
          "this_user": false
         },
         {
          "class_size": 30,
          "this_user": true
         },
         {
          "class_size": 28,
          "this_user": true
         },
         {
          "class_size": 28,
          "this_user": true
         },
         {
          "class_size": 29,
          "this_user": true
         },
         {
          "class_size": 26,
          "this_user": true
         },
         {
          "class_size": 23,
          "this_user": false
         },
         {
          "class_size": 23,
          "this_user": true
         },
         {
          "class_size": 17,
          "this_user": false
         },
         {
          "class_size": 10,
          "this_user": false
         },
         {
          "class_size": 12,
          "this_user": true
         },
         {
          "class_size": 23,
          "this_user": true
         },
         {
          "class_size": 18,
          "this_user": false
         },
         {
          "class_size": 13,
          "this_user": false
         }
        ]
       },
       "encoding": {
        "color": {
         "field": "this_user",
         "scale": {
          "range": [
           "#000000",
           "#62092f"
          ]
         },
         "type": "nominal"
        },
        "x": {
         "bin": {
          "maxbins": 12
         },
         "field": "class_size",
         "type": "quantitative"
        },
        "y": {
         "aggregate": "count",
         "stack": null,
         "type": "quantitative"
        }
       },
       "mark": {
        "interpolate": "step",
        "opacity": 0.75,
        "type": "area"
       }
      },
      "image/png": "[encoded data removed]",
      "text/plain": [
       "<VegaLite 2 object>\n",
       "\n",
       "If you see this message, it means the renderer has not been properly enabled\n",
       "for the frontend that you are using. For more information, see\n",
       "https://altair-viz.github.io/user_guide/troubleshooting.html\n"
      ]
     },
     "execution_count": 39,
     "metadata": {},
     "output_type": "execute_result"
    }
   ],
   "source": [
    "import altair as alt\n",
    "\n",
    "alt.Chart(dat).mark_area(\n",
    "    opacity=0.75,\n",
    "    interpolate='step'\n",
    ").encode(\n",
    "    alt.X(\"class_size:Q\", bin=alt.Bin(maxbins=12)),\n",
    "    alt.Y('count()', stack=None),\n",
    "    alt.Color(\n",
    "        'this_user',\n",
    "        scale=alt.Scale(range=['#000000', '#62092f'])\n",
    "    )\n",
    ")"
   ]
  },
  {
   "cell_type": "code",
   "execution_count": 65,
   "metadata": {},
   "outputs": [
    {
     "data": {
      "text/html": [
       "<div>\n",
       "<style scoped>\n",
       "    .dataframe tbody tr th:only-of-type {\n",
       "        vertical-align: middle;\n",
       "    }\n",
       "\n",
       "    .dataframe tbody tr th {\n",
       "        vertical-align: top;\n",
       "    }\n",
       "\n",
       "    .dataframe thead th {\n",
       "        text-align: right;\n",
       "    }\n",
       "</style>\n",
       "<table border=\"1\" class=\"dataframe\">\n",
       "  <thead>\n",
       "    <tr style=\"text-align: right;\">\n",
       "      <th></th>\n",
       "      <th>workshop_hours</th>\n",
       "      <th>mnth_yr</th>\n",
       "      <th>workshop_category</th>\n",
       "      <th>class_size</th>\n",
       "    </tr>\n",
       "    <tr>\n",
       "      <th>id</th>\n",
       "      <th></th>\n",
       "      <th></th>\n",
       "      <th></th>\n",
       "      <th></th>\n",
       "    </tr>\n",
       "  </thead>\n",
       "  <tbody>\n",
       "    <tr>\n",
       "      <th>1</th>\n",
       "      <td>9</td>\n",
       "      <td>2017-08</td>\n",
       "      <td>DSS</td>\n",
       "      <td>21</td>\n",
       "    </tr>\n",
       "    <tr>\n",
       "      <th>2</th>\n",
       "      <td>9</td>\n",
       "      <td>2017-09</td>\n",
       "      <td>DSS</td>\n",
       "      <td>30</td>\n",
       "    </tr>\n",
       "    <tr>\n",
       "      <th>3</th>\n",
       "      <td>9</td>\n",
       "      <td>2017-10</td>\n",
       "      <td>DSS</td>\n",
       "      <td>12</td>\n",
       "    </tr>\n",
       "    <tr>\n",
       "      <th>4</th>\n",
       "      <td>9</td>\n",
       "      <td>2017-10</td>\n",
       "      <td>DSS</td>\n",
       "      <td>29</td>\n",
       "    </tr>\n",
       "    <tr>\n",
       "      <th>5</th>\n",
       "      <td>18</td>\n",
       "      <td>2017-10</td>\n",
       "      <td>Corporate</td>\n",
       "      <td>5</td>\n",
       "    </tr>\n",
       "  </tbody>\n",
       "</table>\n",
       "</div>"
      ],
      "text/plain": [
       "    workshop_hours  mnth_yr workshop_category  class_size\n",
       "id                                                       \n",
       "1                9  2017-08               DSS          21\n",
       "2                9  2017-09               DSS          30\n",
       "3                9  2017-10               DSS          12\n",
       "4                9  2017-10               DSS          29\n",
       "5               18  2017-10         Corporate           5"
      ]
     },
     "execution_count": 65,
     "metadata": {},
     "output_type": "execute_result"
    }
   ],
   "source": [
    "dat = df.loc[df.this_user==True, ['workshop_hours', 'mnth_yr', 'workshop_category', 'class_size']]\n",
    "# mnth_yr needs to be a string instead of Period\n",
    "dat['mnth_yr'] = df['mnth_yr'].astype(str)\n",
    "dat.head()"
   ]
  },
  {
   "cell_type": "code",
   "execution_count": 66,
   "metadata": {},
   "outputs": [
    {
     "data": {
      "application/vnd.vegalite.v2+json": {
       "$schema": "https://vega.github.io/schema/vega-lite/v2.6.0.json",
       "config": {
        "view": {
         "height": 300,
         "width": 400
        }
       },
       "data": {
        "name": "data-5a8f6b4b8f1babe2c55ef428a0be29d8"
       },
       "datasets": {
        "data-5a8f6b4b8f1babe2c55ef428a0be29d8": [
         {
          "class_size": 21,
          "mnth_yr": "2017-08",
          "workshop_category": "DSS",
          "workshop_hours": 9
         },
         {
          "class_size": 30,
          "mnth_yr": "2017-09",
          "workshop_category": "DSS",
          "workshop_hours": 9
         },
         {
          "class_size": 12,
          "mnth_yr": "2017-10",
          "workshop_category": "DSS",
          "workshop_hours": 9
         },
         {
          "class_size": 29,
          "mnth_yr": "2017-10",
          "workshop_category": "DSS",
          "workshop_hours": 9
         },
         {
          "class_size": 5,
          "mnth_yr": "2017-10",
          "workshop_category": "Corporate",
          "workshop_hours": 18
         },
         {
          "class_size": 7,
          "mnth_yr": "2017-11",
          "workshop_category": "DSS",
          "workshop_hours": 9
         },
         {
          "class_size": 10,
          "mnth_yr": "2017-10",
          "workshop_category": "Corporate",
          "workshop_hours": 18
         },
         {
          "class_size": 27,
          "mnth_yr": "2017-09",
          "workshop_category": "DSS",
          "workshop_hours": 9
         },
         {
          "class_size": 10,
          "mnth_yr": "2018-02",
          "workshop_category": "Corporate",
          "workshop_hours": 16
         },
         {
          "class_size": 10,
          "mnth_yr": "2018-05",
          "workshop_category": "Corporate",
          "workshop_hours": 11
         },
         {
          "class_size": 24,
          "mnth_yr": "2018-01",
          "workshop_category": "Academy",
          "workshop_hours": 9
         },
         {
          "class_size": 24,
          "mnth_yr": "2018-01",
          "workshop_category": "Academy",
          "workshop_hours": 6
         },
         {
          "class_size": 19,
          "mnth_yr": "2018-01",
          "workshop_category": "Academy",
          "workshop_hours": 9
         },
         {
          "class_size": 29,
          "mnth_yr": "2018-05",
          "workshop_category": "Academy",
          "workshop_hours": 9
         },
         {
          "class_size": 17,
          "mnth_yr": "2018-07",
          "workshop_category": "Corporate",
          "workshop_hours": 30
         },
         {
          "class_size": 15,
          "mnth_yr": "2018-07",
          "workshop_category": "Corporate",
          "workshop_hours": 20
         },
         {
          "class_size": 30,
          "mnth_yr": "2018-07",
          "workshop_category": "Academy",
          "workshop_hours": 9
         },
         {
          "class_size": 30,
          "mnth_yr": "2018-03",
          "workshop_category": "Academy",
          "workshop_hours": 9
         },
         {
          "class_size": 28,
          "mnth_yr": "2018-04",
          "workshop_category": "Academy",
          "workshop_hours": 9
         },
         {
          "class_size": 28,
          "mnth_yr": "2018-04",
          "workshop_category": "Academy",
          "workshop_hours": 9
         },
         {
          "class_size": 29,
          "mnth_yr": "2018-05",
          "workshop_category": "Academy",
          "workshop_hours": 9
         },
         {
          "class_size": 26,
          "mnth_yr": "2018-06",
          "workshop_category": "Academy",
          "workshop_hours": 9
         },
         {
          "class_size": 23,
          "mnth_yr": "2018-06",
          "workshop_category": "Academy",
          "workshop_hours": 9
         },
         {
          "class_size": 12,
          "mnth_yr": "2018-05",
          "workshop_category": "Academy",
          "workshop_hours": 16
         },
         {
          "class_size": 23,
          "mnth_yr": "2018-07",
          "workshop_category": "Academy",
          "workshop_hours": 9
         }
        ]
       },
       "encoding": {
        "color": {
         "field": "workshop_category",
         "type": "nominal"
        },
        "x": {
         "aggregate": "sum",
         "field": "workshop_hours",
         "type": "quantitative"
        },
        "y": {
         "field": "mnth_yr",
         "type": "nominal"
        }
       },
       "mark": "bar"
      },
      "image/png": "[encoded data removed]",
      "text/plain": [
       "<VegaLite 2 object>\n",
       "\n",
       "If you see this message, it means the renderer has not been properly enabled\n",
       "for the frontend that you are using. For more information, see\n",
       "https://altair-viz.github.io/user_guide/troubleshooting.html\n"
      ]
     },
     "execution_count": 66,
     "metadata": {},
     "output_type": "execute_result"
    }
   ],
   "source": [
    "alt.Chart(dat).mark_bar().encode(\n",
    "    alt.X(\"sum(workshop_hours)\"),\n",
    "    alt.Y('mnth_yr'),\n",
    "    alt.Color('workshop_category')\n",
    ")"
   ]
  },
  {
   "cell_type": "code",
   "execution_count": 67,
   "metadata": {},
   "outputs": [
    {
     "data": {
      "application/vnd.vegalite.v2+json": {
       "$schema": "https://vega.github.io/schema/vega-lite/v2.6.0.json",
       "config": {
        "view": {
         "height": 300,
         "width": 400
        }
       },
       "data": {
        "name": "data-5a8f6b4b8f1babe2c55ef428a0be29d8"
       },
       "datasets": {
        "data-5a8f6b4b8f1babe2c55ef428a0be29d8": [
         {
          "class_size": 21,
          "mnth_yr": "2017-08",
          "workshop_category": "DSS",
          "workshop_hours": 9
         },
         {
          "class_size": 30,
          "mnth_yr": "2017-09",
          "workshop_category": "DSS",
          "workshop_hours": 9
         },
         {
          "class_size": 12,
          "mnth_yr": "2017-10",
          "workshop_category": "DSS",
          "workshop_hours": 9
         },
         {
          "class_size": 29,
          "mnth_yr": "2017-10",
          "workshop_category": "DSS",
          "workshop_hours": 9
         },
         {
          "class_size": 5,
          "mnth_yr": "2017-10",
          "workshop_category": "Corporate",
          "workshop_hours": 18
         },
         {
          "class_size": 7,
          "mnth_yr": "2017-11",
          "workshop_category": "DSS",
          "workshop_hours": 9
         },
         {
          "class_size": 10,
          "mnth_yr": "2017-10",
          "workshop_category": "Corporate",
          "workshop_hours": 18
         },
         {
          "class_size": 27,
          "mnth_yr": "2017-09",
          "workshop_category": "DSS",
          "workshop_hours": 9
         },
         {
          "class_size": 10,
          "mnth_yr": "2018-02",
          "workshop_category": "Corporate",
          "workshop_hours": 16
         },
         {
          "class_size": 10,
          "mnth_yr": "2018-05",
          "workshop_category": "Corporate",
          "workshop_hours": 11
         },
         {
          "class_size": 24,
          "mnth_yr": "2018-01",
          "workshop_category": "Academy",
          "workshop_hours": 9
         },
         {
          "class_size": 24,
          "mnth_yr": "2018-01",
          "workshop_category": "Academy",
          "workshop_hours": 6
         },
         {
          "class_size": 19,
          "mnth_yr": "2018-01",
          "workshop_category": "Academy",
          "workshop_hours": 9
         },
         {
          "class_size": 29,
          "mnth_yr": "2018-05",
          "workshop_category": "Academy",
          "workshop_hours": 9
         },
         {
          "class_size": 17,
          "mnth_yr": "2018-07",
          "workshop_category": "Corporate",
          "workshop_hours": 30
         },
         {
          "class_size": 15,
          "mnth_yr": "2018-07",
          "workshop_category": "Corporate",
          "workshop_hours": 20
         },
         {
          "class_size": 30,
          "mnth_yr": "2018-07",
          "workshop_category": "Academy",
          "workshop_hours": 9
         },
         {
          "class_size": 30,
          "mnth_yr": "2018-03",
          "workshop_category": "Academy",
          "workshop_hours": 9
         },
         {
          "class_size": 28,
          "mnth_yr": "2018-04",
          "workshop_category": "Academy",
          "workshop_hours": 9
         },
         {
          "class_size": 28,
          "mnth_yr": "2018-04",
          "workshop_category": "Academy",
          "workshop_hours": 9
         },
         {
          "class_size": 29,
          "mnth_yr": "2018-05",
          "workshop_category": "Academy",
          "workshop_hours": 9
         },
         {
          "class_size": 26,
          "mnth_yr": "2018-06",
          "workshop_category": "Academy",
          "workshop_hours": 9
         },
         {
          "class_size": 23,
          "mnth_yr": "2018-06",
          "workshop_category": "Academy",
          "workshop_hours": 9
         },
         {
          "class_size": 12,
          "mnth_yr": "2018-05",
          "workshop_category": "Academy",
          "workshop_hours": 16
         },
         {
          "class_size": 23,
          "mnth_yr": "2018-07",
          "workshop_category": "Academy",
          "workshop_hours": 9
         }
        ]
       },
       "encoding": {
        "color": {
         "field": "workshop_category",
         "type": "nominal"
        },
        "x": {
         "aggregate": "sum",
         "field": "class_size",
         "type": "quantitative"
        },
        "y": {
         "field": "mnth_yr",
         "type": "nominal"
        }
       },
       "mark": "bar"
      },
      "image/png": "[encoded data removed]",
      "text/plain": [
       "<VegaLite 2 object>\n",
       "\n",
       "If you see this message, it means the renderer has not been properly enabled\n",
       "for the frontend that you are using. For more information, see\n",
       "https://altair-viz.github.io/user_guide/troubleshooting.html\n"
      ]
     },
     "execution_count": 67,
     "metadata": {},
     "output_type": "execute_result"
    }
   ],
   "source": [
    "alt.Chart(dat).mark_bar().encode(\n",
    "    alt.X(\"sum(class_size)\"),\n",
    "    alt.Y('mnth_yr'),\n",
    "    alt.Color('workshop_category')\n",
    ")"
   ]
  },
  {
   "cell_type": "code",
   "execution_count": 69,
   "metadata": {},
   "outputs": [
    {
     "data": {
      "text/html": [
       "<div>\n",
       "<style scoped>\n",
       "    .dataframe tbody tr th:only-of-type {\n",
       "        vertical-align: middle;\n",
       "    }\n",
       "\n",
       "    .dataframe tbody tr th {\n",
       "        vertical-align: top;\n",
       "    }\n",
       "\n",
       "    .dataframe thead th {\n",
       "        text-align: right;\n",
       "    }\n",
       "</style>\n",
       "<table border=\"1\" class=\"dataframe\">\n",
       "  <thead>\n",
       "    <tr style=\"text-align: right;\">\n",
       "      <th></th>\n",
       "      <th>mnth_yr</th>\n",
       "      <th>workshop_category</th>\n",
       "      <th>variable</th>\n",
       "      <th>value</th>\n",
       "    </tr>\n",
       "  </thead>\n",
       "  <tbody>\n",
       "    <tr>\n",
       "      <th>0</th>\n",
       "      <td>2017-08</td>\n",
       "      <td>DSS</td>\n",
       "      <td>workshop_hours</td>\n",
       "      <td>9</td>\n",
       "    </tr>\n",
       "    <tr>\n",
       "      <th>1</th>\n",
       "      <td>2017-09</td>\n",
       "      <td>DSS</td>\n",
       "      <td>workshop_hours</td>\n",
       "      <td>9</td>\n",
       "    </tr>\n",
       "    <tr>\n",
       "      <th>2</th>\n",
       "      <td>2017-10</td>\n",
       "      <td>DSS</td>\n",
       "      <td>workshop_hours</td>\n",
       "      <td>9</td>\n",
       "    </tr>\n",
       "    <tr>\n",
       "      <th>3</th>\n",
       "      <td>2017-10</td>\n",
       "      <td>DSS</td>\n",
       "      <td>workshop_hours</td>\n",
       "      <td>9</td>\n",
       "    </tr>\n",
       "    <tr>\n",
       "      <th>4</th>\n",
       "      <td>2017-10</td>\n",
       "      <td>Corporate</td>\n",
       "      <td>workshop_hours</td>\n",
       "      <td>18</td>\n",
       "    </tr>\n",
       "  </tbody>\n",
       "</table>\n",
       "</div>"
      ],
      "text/plain": [
       "   mnth_yr workshop_category        variable  value\n",
       "0  2017-08               DSS  workshop_hours      9\n",
       "1  2017-09               DSS  workshop_hours      9\n",
       "2  2017-10               DSS  workshop_hours      9\n",
       "3  2017-10               DSS  workshop_hours      9\n",
       "4  2017-10         Corporate  workshop_hours     18"
      ]
     },
     "execution_count": 69,
     "metadata": {},
     "output_type": "execute_result"
    }
   ],
   "source": [
    "# transform to [mnth_yr, 'workshop_category', 'variable', 'value']\n",
    "# perform a Trellis Stacked Bar Chart later\n",
    "melted = pd.melt(dat, \n",
    "              id_vars=['mnth_yr', 'workshop_category'], \n",
    "              value_vars=['workshop_hours', 'class_size'])\n",
    "melted.head()"
   ]
  },
  {
   "cell_type": "code",
   "execution_count": 73,
   "metadata": {},
   "outputs": [
    {
     "data": {
      "application/vnd.vegalite.v2+json": {
       "$schema": "https://vega.github.io/schema/vega-lite/v2.6.0.json",
       "config": {
        "view": {
         "height": 300,
         "width": 400
        }
       },
       "data": {
        "name": "data-c52aa6521df930f4a1be96eb96dc9965"
       },
       "datasets": {
        "data-c52aa6521df930f4a1be96eb96dc9965": [
         {
          "mnth_yr": "2017-08",
          "value": 9,
          "variable": "workshop_hours",
          "workshop_category": "DSS"
         },
         {
          "mnth_yr": "2017-09",
          "value": 9,
          "variable": "workshop_hours",
          "workshop_category": "DSS"
         },
         {
          "mnth_yr": "2017-10",
          "value": 9,
          "variable": "workshop_hours",
          "workshop_category": "DSS"
         },
         {
          "mnth_yr": "2017-10",
          "value": 9,
          "variable": "workshop_hours",
          "workshop_category": "DSS"
         },
         {
          "mnth_yr": "2017-10",
          "value": 18,
          "variable": "workshop_hours",
          "workshop_category": "Corporate"
         },
         {
          "mnth_yr": "2017-11",
          "value": 9,
          "variable": "workshop_hours",
          "workshop_category": "DSS"
         },
         {
          "mnth_yr": "2017-10",
          "value": 18,
          "variable": "workshop_hours",
          "workshop_category": "Corporate"
         },
         {
          "mnth_yr": "2017-09",
          "value": 9,
          "variable": "workshop_hours",
          "workshop_category": "DSS"
         },
         {
          "mnth_yr": "2018-02",
          "value": 16,
          "variable": "workshop_hours",
          "workshop_category": "Corporate"
         },
         {
          "mnth_yr": "2018-05",
          "value": 11,
          "variable": "workshop_hours",
          "workshop_category": "Corporate"
         },
         {
          "mnth_yr": "2018-01",
          "value": 9,
          "variable": "workshop_hours",
          "workshop_category": "Academy"
         },
         {
          "mnth_yr": "2018-01",
          "value": 6,
          "variable": "workshop_hours",
          "workshop_category": "Academy"
         },
         {
          "mnth_yr": "2018-01",
          "value": 9,
          "variable": "workshop_hours",
          "workshop_category": "Academy"
         },
         {
          "mnth_yr": "2018-05",
          "value": 9,
          "variable": "workshop_hours",
          "workshop_category": "Academy"
         },
         {
          "mnth_yr": "2018-07",
          "value": 30,
          "variable": "workshop_hours",
          "workshop_category": "Corporate"
         },
         {
          "mnth_yr": "2018-07",
          "value": 20,
          "variable": "workshop_hours",
          "workshop_category": "Corporate"
         },
         {
          "mnth_yr": "2018-07",
          "value": 9,
          "variable": "workshop_hours",
          "workshop_category": "Academy"
         },
         {
          "mnth_yr": "2018-03",
          "value": 9,
          "variable": "workshop_hours",
          "workshop_category": "Academy"
         },
         {
          "mnth_yr": "2018-04",
          "value": 9,
          "variable": "workshop_hours",
          "workshop_category": "Academy"
         },
         {
          "mnth_yr": "2018-04",
          "value": 9,
          "variable": "workshop_hours",
          "workshop_category": "Academy"
         },
         {
          "mnth_yr": "2018-05",
          "value": 9,
          "variable": "workshop_hours",
          "workshop_category": "Academy"
         },
         {
          "mnth_yr": "2018-06",
          "value": 9,
          "variable": "workshop_hours",
          "workshop_category": "Academy"
         },
         {
          "mnth_yr": "2018-06",
          "value": 9,
          "variable": "workshop_hours",
          "workshop_category": "Academy"
         },
         {
          "mnth_yr": "2018-05",
          "value": 16,
          "variable": "workshop_hours",
          "workshop_category": "Academy"
         },
         {
          "mnth_yr": "2018-07",
          "value": 9,
          "variable": "workshop_hours",
          "workshop_category": "Academy"
         },
         {
          "mnth_yr": "2017-08",
          "value": 21,
          "variable": "class_size",
          "workshop_category": "DSS"
         },
         {
          "mnth_yr": "2017-09",
          "value": 30,
          "variable": "class_size",
          "workshop_category": "DSS"
         },
         {
          "mnth_yr": "2017-10",
          "value": 12,
          "variable": "class_size",
          "workshop_category": "DSS"
         },
         {
          "mnth_yr": "2017-10",
          "value": 29,
          "variable": "class_size",
          "workshop_category": "DSS"
         },
         {
          "mnth_yr": "2017-10",
          "value": 5,
          "variable": "class_size",
          "workshop_category": "Corporate"
         },
         {
          "mnth_yr": "2017-11",
          "value": 7,
          "variable": "class_size",
          "workshop_category": "DSS"
         },
         {
          "mnth_yr": "2017-10",
          "value": 10,
          "variable": "class_size",
          "workshop_category": "Corporate"
         },
         {
          "mnth_yr": "2017-09",
          "value": 27,
          "variable": "class_size",
          "workshop_category": "DSS"
         },
         {
          "mnth_yr": "2018-02",
          "value": 10,
          "variable": "class_size",
          "workshop_category": "Corporate"
         },
         {
          "mnth_yr": "2018-05",
          "value": 10,
          "variable": "class_size",
          "workshop_category": "Corporate"
         },
         {
          "mnth_yr": "2018-01",
          "value": 24,
          "variable": "class_size",
          "workshop_category": "Academy"
         },
         {
          "mnth_yr": "2018-01",
          "value": 24,
          "variable": "class_size",
          "workshop_category": "Academy"
         },
         {
          "mnth_yr": "2018-01",
          "value": 19,
          "variable": "class_size",
          "workshop_category": "Academy"
         },
         {
          "mnth_yr": "2018-05",
          "value": 29,
          "variable": "class_size",
          "workshop_category": "Academy"
         },
         {
          "mnth_yr": "2018-07",
          "value": 17,
          "variable": "class_size",
          "workshop_category": "Corporate"
         },
         {
          "mnth_yr": "2018-07",
          "value": 15,
          "variable": "class_size",
          "workshop_category": "Corporate"
         },
         {
          "mnth_yr": "2018-07",
          "value": 30,
          "variable": "class_size",
          "workshop_category": "Academy"
         },
         {
          "mnth_yr": "2018-03",
          "value": 30,
          "variable": "class_size",
          "workshop_category": "Academy"
         },
         {
          "mnth_yr": "2018-04",
          "value": 28,
          "variable": "class_size",
          "workshop_category": "Academy"
         },
         {
          "mnth_yr": "2018-04",
          "value": 28,
          "variable": "class_size",
          "workshop_category": "Academy"
         },
         {
          "mnth_yr": "2018-05",
          "value": 29,
          "variable": "class_size",
          "workshop_category": "Academy"
         },
         {
          "mnth_yr": "2018-06",
          "value": 26,
          "variable": "class_size",
          "workshop_category": "Academy"
         },
         {
          "mnth_yr": "2018-06",
          "value": 23,
          "variable": "class_size",
          "workshop_category": "Academy"
         },
         {
          "mnth_yr": "2018-05",
          "value": 12,
          "variable": "class_size",
          "workshop_category": "Academy"
         },
         {
          "mnth_yr": "2018-07",
          "value": 23,
          "variable": "class_size",
          "workshop_category": "Academy"
         }
        ]
       },
       "encoding": {
        "color": {
         "field": "workshop_category",
         "type": "nominal"
        },
        "row": {
         "field": "variable",
         "type": "nominal"
        },
        "x": {
         "aggregate": "sum",
         "field": "value",
         "type": "quantitative"
        },
        "y": {
         "field": "mnth_yr",
         "type": "nominal"
        }
       },
       "mark": "bar"
      },
      "image/png": "[encoded data removed]",
      "text/plain": [
       "<VegaLite 2 object>\n",
       "\n",
       "If you see this message, it means the renderer has not been properly enabled\n",
       "for the frontend that you are using. For more information, see\n",
       "https://altair-viz.github.io/user_guide/troubleshooting.html\n"
      ]
     },
     "execution_count": 73,
     "metadata": {},
     "output_type": "execute_result"
    }
   ],
   "source": [
    "alt.Chart(melted).mark_bar().encode(\n",
    "    row='variable',\n",
    "    x=alt.X(\"sum(value)\"),\n",
    "    y=alt.Y('mnth_yr'),\n",
    "    color=alt.Color('workshop_category')\n",
    ")"
   ]
  },
  {
   "cell_type": "code",
   "execution_count": null,
   "metadata": {},
   "outputs": [],
   "source": []
  }
 ],
 "metadata": {
  "kernelspec": {
   "display_name": "Python [conda env:pedagogy]",
   "language": "python",
   "name": "conda-env-pedagogy-py"
  },
  "language_info": {
   "codemirror_mode": {
    "name": "ipython",
    "version": 3
   },
   "file_extension": ".py",
   "mimetype": "text/x-python",
   "name": "python",
   "nbconvert_exporter": "python",
   "pygments_lexer": "ipython3",
   "version": "3.6.6"
  }
 },
 "nbformat": 4,
 "nbformat_minor": 2
}
